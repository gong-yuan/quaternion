{
 "cells": [
  {
   "cell_type": "code",
   "execution_count": 1084,
   "metadata": {
    "collapsed": true,
    "deletable": true,
    "editable": true,
    "slideshow": {
     "slide_type": "skip"
    }
   },
   "outputs": [],
   "source": [
    "%matplotlib notebook"
   ]
  },
  {
   "cell_type": "markdown",
   "metadata": {
    "deletable": true,
    "editable": true,
    "slideshow": {
     "slide_type": "slide"
    }
   },
   "source": [
    "## Rotationen in 3D\n",
    "### Thomas Schmelzer\n",
    "\n"
   ]
  },
  {
   "cell_type": "markdown",
   "metadata": {
    "deletable": true,
    "editable": true,
    "slideshow": {
     "slide_type": "slide"
    }
   },
   "source": [
    "### Rotationen in 3D\n",
    "* Die Rotationsmatrizen $\\textrm{SO}(3)$\n",
    "* Die Eulerachse \n",
    "* Die Quaternionen "
   ]
  },
  {
   "cell_type": "code",
   "execution_count": 1085,
   "metadata": {
    "collapsed": true,
    "deletable": true,
    "editable": true,
    "slideshow": {
     "slide_type": "skip"
    }
   },
   "outputs": [],
   "source": [
    "import matplotlib.pyplot as plt\n",
    "import numpy as np\n",
    "\n",
    "def pp(ax, point, **kwargs):\n",
    "    ax.plot([0, point[0]], [0,point[1]], [0, point[2]], **kwargs)\n",
    "    \n",
    "    "
   ]
  },
  {
   "cell_type": "markdown",
   "metadata": {
    "collapsed": true,
    "deletable": true,
    "editable": true,
    "slideshow": {
     "slide_type": "slide"
    }
   },
   "source": [
    "### Rotationsmatrizen $\\textrm{SO}(3)$\n",
    "\n",
    "$3 \\times 3$ Matrizen, orthonormale Spalten und $\\det(A) = 1$.\n",
    "    \n",
    "Fertig? Matrizen manchmal etwas unhandlich. $9$ Einträge, Fragen der Stabilität?\n"
   ]
  },
  {
   "cell_type": "code",
   "execution_count": 1086,
   "metadata": {
    "collapsed": false,
    "deletable": true,
    "editable": true,
    "slideshow": {
     "slide_type": "slide"
    }
   },
   "outputs": [
    {
     "name": "stdout",
     "output_type": "stream",
     "text": [
      "Determinante von A: 0.9999999999999999\n",
      "Check if columns are orthonormal\n",
      "3.65043598952e-16\n"
     ]
    }
   ],
   "source": [
    "# construct a random SO(3) matrix\n",
    "\n",
    "import numpy as np\n",
    "\n",
    "# We construct a random element in SO(3)\n",
    "def rand_so3():\n",
    "    A = np.random.randn(3,3)\n",
    "    # normalize the first column\n",
    "    A[:,0]=A[:,0]/np.linalg.norm(A[:,0], 2)\n",
    "    # make the 2nd column orthogonal to first column\n",
    "    A[:,1]=A[:,1] - np.dot(A[:,0], A[:,1])*A[:,0]\n",
    "    # normalize the second column\n",
    "    A[:,1]=A[:,1]/np.linalg.norm(A[:,1], 2)\n",
    "    # The third column is just the cross product of the first two columns => det = 1\n",
    "    A[:,2]=np.cross(A[:,0],A[:,1])\n",
    "    return A\n",
    "\n",
    "A = rand_so3()\n",
    "print(\"Determinante von A: {0}\".format(np.linalg.det(A)))\n",
    "print(\"Check if columns are orthonormal\")\n",
    "print(np.linalg.norm(np.dot(A.T,A)-np.eye(3),'fro'))"
   ]
  },
  {
   "cell_type": "code",
   "execution_count": 1087,
   "metadata": {
    "collapsed": false,
    "deletable": true,
    "editable": true,
    "slideshow": {
     "slide_type": "slide"
    }
   },
   "outputs": [
    {
     "name": "stdout",
     "output_type": "stream",
     "text": [
      "Eigenwerte von A:\n",
      "       Real      Imag  Abs         phi\n",
      "0 -0.993287 -0.115676  1.0 -173.357393\n",
      "1 -0.993287  0.115676  1.0  173.357393\n",
      "2  1.000000  0.000000  1.0    0.000000\n",
      "\n",
      "Eigenwerte von A:\n",
      "      Real      Imag  Abs         phi\n",
      "0 -0.58009 -0.814553  1.0 -125.456859\n",
      "1 -0.58009  0.814553  1.0  125.456859\n",
      "2  1.00000  0.000000  1.0    0.000000\n",
      "\n",
      "Eigenwerte von A:\n",
      "      Real      Imag  Abs         phi\n",
      "0 -0.96866 -0.248392  1.0 -165.617633\n",
      "1 -0.96866  0.248392  1.0  165.617633\n",
      "2  1.00000  0.000000  1.0    0.000000\n",
      "\n"
     ]
    }
   ],
   "source": [
    "from numpy.linalg import eig\n",
    "import pandas as pd\n",
    "\n",
    "for i in range(0,3):\n",
    "    values, vectors = eig(rand_so3())\n",
    "    d = dict()\n",
    "    for j,value in enumerate(np.sort(values)):\n",
    "        d[j] = {\"Real\": value.real, \"Imag\": value.imag, \n",
    "                \"Abs\": np.abs(value), \"phi\": np.angle(value, deg=True)}\n",
    "    \n",
    "    print(\"Eigenwerte von A:\\n{0}\\n\".format(pd.DataFrame(d).transpose()[[\"Real\",\"Imag\",\"Abs\",\"phi\"]]))"
   ]
  },
  {
   "cell_type": "markdown",
   "metadata": {
    "deletable": true,
    "editable": true,
    "slideshow": {
     "slide_type": "skip"
    }
   },
   "source": [
    "* Es gibt immer einen Eigenwert 1\n",
    "* Eine reelle 3 x 3 Matrix hat immer mind. einen reellen Eigenwert\n",
    "* Das charakteristische Polynom einer 3x3 Matrix hat den Grad 3. \n",
    "* Ein Polynom vom Grad 3 hat mind eine reelle Nullstelle (das ist nicht wahr fuer Polynome vom Grad 2,4,6,...)\n",
    "* Was können Sie über die beiden anderen Eigenwerte sagen? \n",
    "* Was können Sie über das Produkt der Eigenwerte sagen?\n",
    "* Was bedeutet es geometrisch so einen Eigenwert zu haben?"
   ]
  },
  {
   "cell_type": "markdown",
   "metadata": {
    "collapsed": true,
    "deletable": true,
    "editable": true,
    "slideshow": {
     "slide_type": "slide"
    }
   },
   "source": [
    "### Beobachtungen\n",
    "* Es existiert ein Vektor x (reell), so dass A*x = x. Diese Vektor beschreibt die __Euler Achse__\n",
    "* Die beiden anderen Eigenwerte sind $z$ und $\\bar{z}$."
   ]
  },
  {
   "cell_type": "code",
   "execution_count": 1088,
   "metadata": {
    "collapsed": false,
    "deletable": true,
    "editable": true,
    "scrolled": true,
    "slideshow": {
     "slide_type": "slide"
    }
   },
   "outputs": [
    {
     "data": {
      "image/png": "[encoded data removed]",
      "text/plain": [
       "<IPython.core.display.Image object>"
      ]
     },
     "execution_count": 1088,
     "metadata": {},
     "output_type": "execute_result"
    }
   ],
   "source": [
    "from IPython.display import Image\n",
    "Image(\"Euler_AxisAngle.png\")"
   ]
  },
  {
   "cell_type": "code",
   "execution_count": 1089,
   "metadata": {
    "collapsed": true,
    "deletable": true,
    "editable": true,
    "slideshow": {
     "slide_type": "skip"
    }
   },
   "outputs": [],
   "source": [
    "def baseimage3(a):\n",
    "    %matplotlib notebook\n",
    "    #import matplotlib as mpl\n",
    "    from mpl_toolkits.mplot3d import Axes3D\n",
    "    #import numpy as np\n",
    "    import matplotlib.pyplot as plt\n",
    "\n",
    "    fig = plt.figure()\n",
    "    ax = fig.gca(projection='3d')\n",
    "\n",
    "    from numpy.linalg import eig\n",
    "    values, vectors = eig(A)\n",
    "    i=np.argsort(values)\n",
    "    values=values[i]\n",
    "    euler=vectors[:,-1].real\n",
    "\n",
    "    pp(ax, point=np.array([1,0,0]), color=\"b\", linewidth=5)\n",
    "    pp(ax, point=np.array([0,1,0]), color=\"r\", linewidth=5)\n",
    "    pp(ax, point=np.array([0,0,1]), color=\"g\", linewidth=5)\n",
    "    pp(ax, point=a[:,0], color=\"b\", linewidth=5, linestyle=\"--\")\n",
    "    pp(ax, point=a[:,1], color=\"r\", linewidth=5, linestyle=\"--\")\n",
    "    pp(ax, point=a[:,2], color=\"g\", linewidth=5, linestyle=\"--\")\n",
    "    pp(ax, point=euler, color=\"k\", linewidth=5, linestyle=\"--\")\n",
    "        \n",
    "    plt.grid()\n",
    "    plt.show()"
   ]
  },
  {
   "cell_type": "code",
   "execution_count": 1090,
   "metadata": {
    "collapsed": false,
    "deletable": true,
    "editable": true,
    "scrolled": true,
    "slideshow": {
     "slide_type": "slide"
    }
   },
   "outputs": [
    {
     "data": {
      "application/javascript": [
       "/* Put everything inside the global mpl namespace */\n",
       "window.mpl = {};\n",
       "\n",
       "\n",
       "mpl.get_websocket_type = function() {\n",
       "    if (typeof(WebSocket) !== 'undefined') {\n",
       "        return WebSocket;\n",
       "    } else if (typeof(MozWebSocket) !== 'undefined') {\n",
       "        return MozWebSocket;\n",
       "    } else {\n",
       "        alert('Your browser does not have WebSocket support.' +\n",
       "              'Please try Chrome, Safari or Firefox ≥ 6. ' +\n",
       "              'Firefox 4 and 5 are also supported but you ' +\n",
       "              'have to enable WebSockets in about:config.');\n",
       "    };\n",
       "}\n",
       "\n",
       "mpl.figure = function(figure_id, websocket, ondownload, parent_element) {\n",
       "    this.id = figure_id;\n",
       "\n",
       "    this.ws = websocket;\n",
       "\n",
       "    this.supports_binary = (this.ws.binaryType != undefined);\n",
       "\n",
       "    if (!this.supports_binary) {\n",
       "        var warnings = document.getElementById(\"mpl-warnings\");\n",
       "        if (warnings) {\n",
       "            warnings.style.display = 'block';\n",
       "            warnings.textContent = (\n",
       "                \"This browser does not support binary websocket messages. \" +\n",
       "                    \"Performance may be slow.\");\n",
       "        }\n",
       "    }\n",
       "\n",
       "    this.imageObj = new Image();\n",
       "\n",
       "    this.context = undefined;\n",
       "    this.message = undefined;\n",
       "    this.canvas = undefined;\n",
       "    this.rubberband_canvas = undefined;\n",
       "    this.rubberband_context = undefined;\n",
       "    this.format_dropdown = undefined;\n",
       "\n",
       "    this.image_mode = 'full';\n",
       "\n",
       "    this.root = $('<div/>');\n",
       "    this._root_extra_style(this.root)\n",
       "    this.root.attr('style', 'display: inline-block');\n",
       "\n",
       "    $(parent_element).append(this.root);\n",
       "\n",
       "    this._init_header(this);\n",
       "    this._init_canvas(this);\n",
       "    this._init_toolbar(this);\n",
       "\n",
       "    var fig = this;\n",
       "\n",
       "    this.waiting = false;\n",
       "\n",
       "    this.ws.onopen =  function () {\n",
       "            fig.send_message(\"supports_binary\", {value: fig.supports_binary});\n",
       "            fig.send_message(\"send_image_mode\", {});\n",
       "            if (mpl.ratio != 1) {\n",
       "                fig.send_message(\"set_dpi_ratio\", {'dpi_ratio': mpl.ratio});\n",
       "            }\n",
       "            fig.send_message(\"refresh\", {});\n",
       "        }\n",
       "\n",
       "    this.imageObj.onload = function() {\n",
       "            if (fig.image_mode == 'full') {\n",
       "                // Full images could contain transparency (where diff images\n",
       "                // almost always do), so we need to clear the canvas so that\n",
       "                // there is no ghosting.\n",
       "                fig.context.clearRect(0, 0, fig.canvas.width, fig.canvas.height);\n",
       "            }\n",
       "            fig.context.drawImage(fig.imageObj, 0, 0);\n",
       "        };\n",
       "\n",
       "    this.imageObj.onunload = function() {\n",
       "        this.ws.close();\n",
       "    }\n",
       "\n",
       "    this.ws.onmessage = this._make_on_message_function(this);\n",
       "\n",
       "    this.ondownload = ondownload;\n",
       "}\n",
       "\n",
       "mpl.figure.prototype._init_header = function() {\n",
       "    var titlebar = $(\n",
       "        '<div class=\"ui-dialog-titlebar ui-widget-header ui-corner-all ' +\n",
       "        'ui-helper-clearfix\"/>');\n",
       "    var titletext = $(\n",
       "        '<div class=\"ui-dialog-title\" style=\"width: 100%; ' +\n",
       "        'text-align: center; padding: 3px;\"/>');\n",
       "    titlebar.append(titletext)\n",
       "    this.root.append(titlebar);\n",
       "    this.header = titletext[0];\n",
       "}\n",
       "\n",
       "\n",
       "\n",
       "mpl.figure.prototype._canvas_extra_style = function(canvas_div) {\n",
       "\n",
       "}\n",
       "\n",
       "\n",
       "mpl.figure.prototype._root_extra_style = function(canvas_div) {\n",
       "\n",
       "}\n",
       "\n",
       "mpl.figure.prototype._init_canvas = function() {\n",
       "    var fig = this;\n",
       "\n",
       "    var canvas_div = $('<div/>');\n",
       "\n",
       "    canvas_div.attr('style', 'position: relative; clear: both; outline: 0');\n",
       "\n",
       "    function canvas_keyboard_event(event) {\n",
       "        return fig.key_event(event, event['data']);\n",
       "    }\n",
       "\n",
       "    canvas_div.keydown('key_press', canvas_keyboard_event);\n",
       "    canvas_div.keyup('key_release', canvas_keyboard_event);\n",
       "    this.canvas_div = canvas_div\n",
       "    this._canvas_extra_style(canvas_div)\n",
       "    this.root.append(canvas_div);\n",
       "\n",
       "    var canvas = $('<canvas/>');\n",
       "    canvas.addClass('mpl-canvas');\n",
       "    canvas.attr('style', \"left: 0; top: 0; z-index: 0; outline: 0\")\n",
       "\n",
       "    this.canvas = canvas[0];\n",
       "    this.context = canvas[0].getContext(\"2d\");\n",
       "\n",
       "    var backingStore = this.context.backingStorePixelRatio ||\n",
       "\tthis.context.webkitBackingStorePixelRatio ||\n",
       "\tthis.context.mozBackingStorePixelRatio ||\n",
       "\tthis.context.msBackingStorePixelRatio ||\n",
       "\tthis.context.oBackingStorePixelRatio ||\n",
       "\tthis.context.backingStorePixelRatio || 1;\n",
       "\n",
       "    mpl.ratio = (window.devicePixelRatio || 1) / backingStore;\n",
       "\n",
       "    var rubberband = $('<canvas/>');\n",
       "    rubberband.attr('style', \"position: absolute; left: 0; top: 0; z-index: 1;\")\n",
       "\n",
       "    var pass_mouse_events = true;\n",
       "\n",
       "    canvas_div.resizable({\n",
       "        start: function(event, ui) {\n",
       "            pass_mouse_events = false;\n",
       "        },\n",
       "        resize: function(event, ui) {\n",
       "            fig.request_resize(ui.size.width, ui.size.height);\n",
       "        },\n",
       "        stop: function(event, ui) {\n",
       "            pass_mouse_events = true;\n",
       "            fig.request_resize(ui.size.width, ui.size.height);\n",
       "        },\n",
       "    });\n",
       "\n",
       "    function mouse_event_fn(event) {\n",
       "        if (pass_mouse_events)\n",
       "            return fig.mouse_event(event, event['data']);\n",
       "    }\n",
       "\n",
       "    rubberband.mousedown('button_press', mouse_event_fn);\n",
       "    rubberband.mouseup('button_release', mouse_event_fn);\n",
       "    // Throttle sequential mouse events to 1 every 20ms.\n",
       "    rubberband.mousemove('motion_notify', mouse_event_fn);\n",
       "\n",
       "    rubberband.mouseenter('figure_enter', mouse_event_fn);\n",
       "    rubberband.mouseleave('figure_leave', mouse_event_fn);\n",
       "\n",
       "    canvas_div.on(\"wheel\", function (event) {\n",
       "        event = event.originalEvent;\n",
       "        event['data'] = 'scroll'\n",
       "        if (event.deltaY < 0) {\n",
       "            event.step = 1;\n",
       "        } else {\n",
       "            event.step = -1;\n",
       "        }\n",
       "        mouse_event_fn(event);\n",
       "    });\n",
       "\n",
       "    canvas_div.append(canvas);\n",
       "    canvas_div.append(rubberband);\n",
       "\n",
       "    this.rubberband = rubberband;\n",
       "    this.rubberband_canvas = rubberband[0];\n",
       "    this.rubberband_context = rubberband[0].getContext(\"2d\");\n",
       "    this.rubberband_context.strokeStyle = \"#000000\";\n",
       "\n",
       "    this._resize_canvas = function(width, height) {\n",
       "        // Keep the size of the canvas, canvas container, and rubber band\n",
       "        // canvas in synch.\n",
       "        canvas_div.css('width', width)\n",
       "        canvas_div.css('height', height)\n",
       "\n",
       "        canvas.attr('width', width * mpl.ratio);\n",
       "        canvas.attr('height', height * mpl.ratio);\n",
       "        canvas.attr('style', 'width: ' + width + 'px; height: ' + height + 'px;');\n",
       "\n",
       "        rubberband.attr('width', width);\n",
       "        rubberband.attr('height', height);\n",
       "    }\n",
       "\n",
       "    // Set the figure to an initial 600x600px, this will subsequently be updated\n",
       "    // upon first draw.\n",
       "    this._resize_canvas(600, 600);\n",
       "\n",
       "    // Disable right mouse context menu.\n",
       "    $(this.rubberband_canvas).bind(\"contextmenu\",function(e){\n",
       "        return false;\n",
       "    });\n",
       "\n",
       "    function set_focus () {\n",
       "        canvas.focus();\n",
       "        canvas_div.focus();\n",
       "    }\n",
       "\n",
       "    window.setTimeout(set_focus, 100);\n",
       "}\n",
       "\n",
       "mpl.figure.prototype._init_toolbar = function() {\n",
       "    var fig = this;\n",
       "\n",
       "    var nav_element = $('<div/>')\n",
       "    nav_element.attr('style', 'width: 100%');\n",
       "    this.root.append(nav_element);\n",
       "\n",
       "    // Define a callback function for later on.\n",
       "    function toolbar_event(event) {\n",
       "        return fig.toolbar_button_onclick(event['data']);\n",
       "    }\n",
       "    function toolbar_mouse_event(event) {\n",
       "        return fig.toolbar_button_onmouseover(event['data']);\n",
       "    }\n",
       "\n",
       "    for(var toolbar_ind in mpl.toolbar_items) {\n",
       "        var name = mpl.toolbar_items[toolbar_ind][0];\n",
       "        var tooltip = mpl.toolbar_items[toolbar_ind][1];\n",
       "        var image = mpl.toolbar_items[toolbar_ind][2];\n",
       "        var method_name = mpl.toolbar_items[toolbar_ind][3];\n",
       "\n",
       "        if (!name) {\n",
       "            // put a spacer in here.\n",
       "            continue;\n",
       "        }\n",
       "        var button = $('<button/>');\n",
       "        button.addClass('ui-button ui-widget ui-state-default ui-corner-all ' +\n",
       "                        'ui-button-icon-only');\n",
       "        button.attr('role', 'button');\n",
       "        button.attr('aria-disabled', 'false');\n",
       "        button.click(method_name, toolbar_event);\n",
       "        button.mouseover(tooltip, toolbar_mouse_event);\n",
       "\n",
       "        var icon_img = $('<span/>');\n",
       "        icon_img.addClass('ui-button-icon-primary ui-icon');\n",
       "        icon_img.addClass(image);\n",
       "        icon_img.addClass('ui-corner-all');\n",
       "\n",
       "        var tooltip_span = $('<span/>');\n",
       "        tooltip_span.addClass('ui-button-text');\n",
       "        tooltip_span.html(tooltip);\n",
       "\n",
       "        button.append(icon_img);\n",
       "        button.append(tooltip_span);\n",
       "\n",
       "        nav_element.append(button);\n",
       "    }\n",
       "\n",
       "    var fmt_picker_span = $('<span/>');\n",
       "\n",
       "    var fmt_picker = $('<select/>');\n",
       "    fmt_picker.addClass('mpl-toolbar-option ui-widget ui-widget-content');\n",
       "    fmt_picker_span.append(fmt_picker);\n",
       "    nav_element.append(fmt_picker_span);\n",
       "    this.format_dropdown = fmt_picker[0];\n",
       "\n",
       "    for (var ind in mpl.extensions) {\n",
       "        var fmt = mpl.extensions[ind];\n",
       "        var option = $(\n",
       "            '<option/>', {selected: fmt === mpl.default_extension}).html(fmt);\n",
       "        fmt_picker.append(option)\n",
       "    }\n",
       "\n",
       "    // Add hover states to the ui-buttons\n",
       "    $( \".ui-button\" ).hover(\n",
       "        function() { $(this).addClass(\"ui-state-hover\");},\n",
       "        function() { $(this).removeClass(\"ui-state-hover\");}\n",
       "    );\n",
       "\n",
       "    var status_bar = $('<span class=\"mpl-message\"/>');\n",
       "    nav_element.append(status_bar);\n",
       "    this.message = status_bar[0];\n",
       "}\n",
       "\n",
       "mpl.figure.prototype.request_resize = function(x_pixels, y_pixels) {\n",
       "    // Request matplotlib to resize the figure. Matplotlib will then trigger a resize in the client,\n",
       "    // which will in turn request a refresh of the image.\n",
       "    this.send_message('resize', {'width': x_pixels, 'height': y_pixels});\n",
       "}\n",
       "\n",
       "mpl.figure.prototype.send_message = function(type, properties) {\n",
       "    properties['type'] = type;\n",
       "    properties['figure_id'] = this.id;\n",
       "    this.ws.send(JSON.stringify(properties));\n",
       "}\n",
       "\n",
       "mpl.figure.prototype.send_draw_message = function() {\n",
       "    if (!this.waiting) {\n",
       "        this.waiting = true;\n",
       "        this.ws.send(JSON.stringify({type: \"draw\", figure_id: this.id}));\n",
       "    }\n",
       "}\n",
       "\n",
       "\n",
       "mpl.figure.prototype.handle_save = function(fig, msg) {\n",
       "    var format_dropdown = fig.format_dropdown;\n",
       "    var format = format_dropdown.options[format_dropdown.selectedIndex].value;\n",
       "    fig.ondownload(fig, format);\n",
       "}\n",
       "\n",
       "\n",
       "mpl.figure.prototype.handle_resize = function(fig, msg) {\n",
       "    var size = msg['size'];\n",
       "    if (size[0] != fig.canvas.width || size[1] != fig.canvas.height) {\n",
       "        fig._resize_canvas(size[0], size[1]);\n",
       "        fig.send_message(\"refresh\", {});\n",
       "    };\n",
       "}\n",
       "\n",
       "mpl.figure.prototype.handle_rubberband = function(fig, msg) {\n",
       "    var x0 = msg['x0'] / mpl.ratio;\n",
       "    var y0 = (fig.canvas.height - msg['y0']) / mpl.ratio;\n",
       "    var x1 = msg['x1'] / mpl.ratio;\n",
       "    var y1 = (fig.canvas.height - msg['y1']) / mpl.ratio;\n",
       "    x0 = Math.floor(x0) + 0.5;\n",
       "    y0 = Math.floor(y0) + 0.5;\n",
       "    x1 = Math.floor(x1) + 0.5;\n",
       "    y1 = Math.floor(y1) + 0.5;\n",
       "    var min_x = Math.min(x0, x1);\n",
       "    var min_y = Math.min(y0, y1);\n",
       "    var width = Math.abs(x1 - x0);\n",
       "    var height = Math.abs(y1 - y0);\n",
       "\n",
       "    fig.rubberband_context.clearRect(\n",
       "        0, 0, fig.canvas.width, fig.canvas.height);\n",
       "\n",
       "    fig.rubberband_context.strokeRect(min_x, min_y, width, height);\n",
       "}\n",
       "\n",
       "mpl.figure.prototype.handle_figure_label = function(fig, msg) {\n",
       "    // Updates the figure title.\n",
       "    fig.header.textContent = msg['label'];\n",
       "}\n",
       "\n",
       "mpl.figure.prototype.handle_cursor = function(fig, msg) {\n",
       "    var cursor = msg['cursor'];\n",
       "    switch(cursor)\n",
       "    {\n",
       "    case 0:\n",
       "        cursor = 'pointer';\n",
       "        break;\n",
       "    case 1:\n",
       "        cursor = 'default';\n",
       "        break;\n",
       "    case 2:\n",
       "        cursor = 'crosshair';\n",
       "        break;\n",
       "    case 3:\n",
       "        cursor = 'move';\n",
       "        break;\n",
       "    }\n",
       "    fig.rubberband_canvas.style.cursor = cursor;\n",
       "}\n",
       "\n",
       "mpl.figure.prototype.handle_message = function(fig, msg) {\n",
       "    fig.message.textContent = msg['message'];\n",
       "}\n",
       "\n",
       "mpl.figure.prototype.handle_draw = function(fig, msg) {\n",
       "    // Request the server to send over a new figure.\n",
       "    fig.send_draw_message();\n",
       "}\n",
       "\n",
       "mpl.figure.prototype.handle_image_mode = function(fig, msg) {\n",
       "    fig.image_mode = msg['mode'];\n",
       "}\n",
       "\n",
       "mpl.figure.prototype.updated_canvas_event = function() {\n",
       "    // Called whenever the canvas gets updated.\n",
       "    this.send_message(\"ack\", {});\n",
       "}\n",
       "\n",
       "// A function to construct a web socket function for onmessage handling.\n",
       "// Called in the figure constructor.\n",
       "mpl.figure.prototype._make_on_message_function = function(fig) {\n",
       "    return function socket_on_message(evt) {\n",
       "        if (evt.data instanceof Blob) {\n",
       "            /* FIXME: We get \"Resource interpreted as Image but\n",
       "             * transferred with MIME type text/plain:\" errors on\n",
       "             * Chrome.  But how to set the MIME type?  It doesn't seem\n",
       "             * to be part of the websocket stream */\n",
       "            evt.data.type = \"image/png\";\n",
       "\n",
       "            /* Free the memory for the previous frames */\n",
       "            if (fig.imageObj.src) {\n",
       "                (window.URL || window.webkitURL).revokeObjectURL(\n",
       "                    fig.imageObj.src);\n",
       "            }\n",
       "\n",
       "            fig.imageObj.src = (window.URL || window.webkitURL).createObjectURL(\n",
       "                evt.data);\n",
       "            fig.updated_canvas_event();\n",
       "            fig.waiting = false;\n",
       "            return;\n",
       "        }\n",
       "        else if (typeof evt.data === 'string' && evt.data.slice(0, 21) == \"data:image/png;base64\") {\n",
       "            fig.imageObj.src = evt.data;\n",
       "            fig.updated_canvas_event();\n",
       "            fig.waiting = false;\n",
       "            return;\n",
       "        }\n",
       "\n",
       "        var msg = JSON.parse(evt.data);\n",
       "        var msg_type = msg['type'];\n",
       "\n",
       "        // Call the  \"handle_{type}\" callback, which takes\n",
       "        // the figure and JSON message as its only arguments.\n",
       "        try {\n",
       "            var callback = fig[\"handle_\" + msg_type];\n",
       "        } catch (e) {\n",
       "            console.log(\"No handler for the '\" + msg_type + \"' message type: \", msg);\n",
       "            return;\n",
       "        }\n",
       "\n",
       "        if (callback) {\n",
       "            try {\n",
       "                // console.log(\"Handling '\" + msg_type + \"' message: \", msg);\n",
       "                callback(fig, msg);\n",
       "            } catch (e) {\n",
       "                console.log(\"Exception inside the 'handler_\" + msg_type + \"' callback:\", e, e.stack, msg);\n",
       "            }\n",
       "        }\n",
       "    };\n",
       "}\n",
       "\n",
       "// from http://stackoverflow.com/questions/1114465/getting-mouse-location-in-canvas\n",
       "mpl.findpos = function(e) {\n",
       "    //this section is from http://www.quirksmode.org/js/events_properties.html\n",
       "    var targ;\n",
       "    if (!e)\n",
       "        e = window.event;\n",
       "    if (e.target)\n",
       "        targ = e.target;\n",
       "    else if (e.srcElement)\n",
       "        targ = e.srcElement;\n",
       "    if (targ.nodeType == 3) // defeat Safari bug\n",
       "        targ = targ.parentNode;\n",
       "\n",
       "    // jQuery normalizes the pageX and pageY\n",
       "    // pageX,Y are the mouse positions relative to the document\n",
       "    // offset() returns the position of the element relative to the document\n",
       "    var x = e.pageX - $(targ).offset().left;\n",
       "    var y = e.pageY - $(targ).offset().top;\n",
       "\n",
       "    return {\"x\": x, \"y\": y};\n",
       "};\n",
       "\n",
       "/*\n",
       " * return a copy of an object with only non-object keys\n",
       " * we need this to avoid circular references\n",
       " * http://stackoverflow.com/a/24161582/3208463\n",
       " */\n",
       "function simpleKeys (original) {\n",
       "  return Object.keys(original).reduce(function (obj, key) {\n",
       "    if (typeof original[key] !== 'object')\n",
       "        obj[key] = original[key]\n",
       "    return obj;\n",
       "  }, {});\n",
       "}\n",
       "\n",
       "mpl.figure.prototype.mouse_event = function(event, name) {\n",
       "    var canvas_pos = mpl.findpos(event)\n",
       "\n",
       "    if (name === 'button_press')\n",
       "    {\n",
       "        this.canvas.focus();\n",
       "        this.canvas_div.focus();\n",
       "    }\n",
       "\n",
       "    var x = canvas_pos.x * mpl.ratio;\n",
       "    var y = canvas_pos.y * mpl.ratio;\n",
       "\n",
       "    this.send_message(name, {x: x, y: y, button: event.button,\n",
       "                             step: event.step,\n",
       "                             guiEvent: simpleKeys(event)});\n",
       "\n",
       "    /* This prevents the web browser from automatically changing to\n",
       "     * the text insertion cursor when the button is pressed.  We want\n",
       "     * to control all of the cursor setting manually through the\n",
       "     * 'cursor' event from matplotlib */\n",
       "    event.preventDefault();\n",
       "    return false;\n",
       "}\n",
       "\n",
       "mpl.figure.prototype._key_event_extra = function(event, name) {\n",
       "    // Handle any extra behaviour associated with a key event\n",
       "}\n",
       "\n",
       "mpl.figure.prototype.key_event = function(event, name) {\n",
       "\n",
       "    // Prevent repeat events\n",
       "    if (name == 'key_press')\n",
       "    {\n",
       "        if (event.which === this._key)\n",
       "            return;\n",
       "        else\n",
       "            this._key = event.which;\n",
       "    }\n",
       "    if (name == 'key_release')\n",
       "        this._key = null;\n",
       "\n",
       "    var value = '';\n",
       "    if (event.ctrlKey && event.which != 17)\n",
       "        value += \"ctrl+\";\n",
       "    if (event.altKey && event.which != 18)\n",
       "        value += \"alt+\";\n",
       "    if (event.shiftKey && event.which != 16)\n",
       "        value += \"shift+\";\n",
       "\n",
       "    value += 'k';\n",
       "    value += event.which.toString();\n",
       "\n",
       "    this._key_event_extra(event, name);\n",
       "\n",
       "    this.send_message(name, {key: value,\n",
       "                             guiEvent: simpleKeys(event)});\n",
       "    return false;\n",
       "}\n",
       "\n",
       "mpl.figure.prototype.toolbar_button_onclick = function(name) {\n",
       "    if (name == 'download') {\n",
       "        this.handle_save(this, null);\n",
       "    } else {\n",
       "        this.send_message(\"toolbar_button\", {name: name});\n",
       "    }\n",
       "};\n",
       "\n",
       "mpl.figure.prototype.toolbar_button_onmouseover = function(tooltip) {\n",
       "    this.message.textContent = tooltip;\n",
       "};\n",
       "mpl.toolbar_items = [[\"Home\", \"Reset original view\", \"fa fa-home icon-home\", \"home\"], [\"Back\", \"Back to  previous view\", \"fa fa-arrow-left icon-arrow-left\", \"back\"], [\"Forward\", \"Forward to next view\", \"fa fa-arrow-right icon-arrow-right\", \"forward\"], [\"\", \"\", \"\", \"\"], [\"Pan\", \"Pan axes with left mouse, zoom with right\", \"fa fa-arrows icon-move\", \"pan\"], [\"Zoom\", \"Zoom to rectangle\", \"fa fa-square-o icon-check-empty\", \"zoom\"], [\"\", \"\", \"\", \"\"], [\"Download\", \"Download plot\", \"fa fa-floppy-o icon-save\", \"download\"]];\n",
       "\n",
       "mpl.extensions = [\"eps\", \"pdf\", \"png\", \"ps\", \"raw\", \"svg\"];\n",
       "\n",
       "mpl.default_extension = \"png\";var comm_websocket_adapter = function(comm) {\n",
       "    // Create a \"websocket\"-like object which calls the given IPython comm\n",
       "    // object with the appropriate methods. Currently this is a non binary\n",
       "    // socket, so there is still some room for performance tuning.\n",
       "    var ws = {};\n",
       "\n",
       "    ws.close = function() {\n",
       "        comm.close()\n",
       "    };\n",
       "    ws.send = function(m) {\n",
       "        //console.log('sending', m);\n",
       "        comm.send(m);\n",
       "    };\n",
       "    // Register the callback with on_msg.\n",
       "    comm.on_msg(function(msg) {\n",
       "        //console.log('receiving', msg['content']['data'], msg);\n",
       "        // Pass the mpl event to the overriden (by mpl) onmessage function.\n",
       "        ws.onmessage(msg['content']['data'])\n",
       "    });\n",
       "    return ws;\n",
       "}\n",
       "\n",
       "mpl.mpl_figure_comm = function(comm, msg) {\n",
       "    // This is the function which gets called when the mpl process\n",
       "    // starts-up an IPython Comm through the \"matplotlib\" channel.\n",
       "\n",
       "    var id = msg.content.data.id;\n",
       "    // Get hold of the div created by the display call when the Comm\n",
       "    // socket was opened in Python.\n",
       "    var element = $(\"#\" + id);\n",
       "    var ws_proxy = comm_websocket_adapter(comm)\n",
       "\n",
       "    function ondownload(figure, format) {\n",
       "        window.open(figure.imageObj.src);\n",
       "    }\n",
       "\n",
       "    var fig = new mpl.figure(id, ws_proxy,\n",
       "                           ondownload,\n",
       "                           element.get(0));\n",
       "\n",
       "    // Call onopen now - mpl needs it, as it is assuming we've passed it a real\n",
       "    // web socket which is closed, not our websocket->open comm proxy.\n",
       "    ws_proxy.onopen();\n",
       "\n",
       "    fig.parent_element = element.get(0);\n",
       "    fig.cell_info = mpl.find_output_cell(\"<div id='\" + id + \"'></div>\");\n",
       "    if (!fig.cell_info) {\n",
       "        console.error(\"Failed to find cell for figure\", id, fig);\n",
       "        return;\n",
       "    }\n",
       "\n",
       "    var output_index = fig.cell_info[2]\n",
       "    var cell = fig.cell_info[0];\n",
       "\n",
       "};\n",
       "\n",
       "mpl.figure.prototype.handle_close = function(fig, msg) {\n",
       "    var width = fig.canvas.width/mpl.ratio\n",
       "    fig.root.unbind('remove')\n",
       "\n",
       "    // Update the output cell to use the data from the current canvas.\n",
       "    fig.push_to_output();\n",
       "    var dataURL = fig.canvas.toDataURL();\n",
       "    // Re-enable the keyboard manager in IPython - without this line, in FF,\n",
       "    // the notebook keyboard shortcuts fail.\n",
       "    IPython.keyboard_manager.enable()\n",
       "    $(fig.parent_element).html('<img src=\"' + dataURL + '\" width=\"' + width + '\">');\n",
       "    fig.close_ws(fig, msg);\n",
       "}\n",
       "\n",
       "mpl.figure.prototype.close_ws = function(fig, msg){\n",
       "    fig.send_message('closing', msg);\n",
       "    // fig.ws.close()\n",
       "}\n",
       "\n",
       "mpl.figure.prototype.push_to_output = function(remove_interactive) {\n",
       "    // Turn the data on the canvas into data in the output cell.\n",
       "    var width = this.canvas.width/mpl.ratio\n",
       "    var dataURL = this.canvas.toDataURL();\n",
       "    this.cell_info[1]['text/html'] = '<img src=\"' + dataURL + '\" width=\"' + width + '\">';\n",
       "}\n",
       "\n",
       "mpl.figure.prototype.updated_canvas_event = function() {\n",
       "    // Tell IPython that the notebook contents must change.\n",
       "    IPython.notebook.set_dirty(true);\n",
       "    this.send_message(\"ack\", {});\n",
       "    var fig = this;\n",
       "    // Wait a second, then push the new image to the DOM so\n",
       "    // that it is saved nicely (might be nice to debounce this).\n",
       "    setTimeout(function () { fig.push_to_output() }, 1000);\n",
       "}\n",
       "\n",
       "mpl.figure.prototype._init_toolbar = function() {\n",
       "    var fig = this;\n",
       "\n",
       "    var nav_element = $('<div/>')\n",
       "    nav_element.attr('style', 'width: 100%');\n",
       "    this.root.append(nav_element);\n",
       "\n",
       "    // Define a callback function for later on.\n",
       "    function toolbar_event(event) {\n",
       "        return fig.toolbar_button_onclick(event['data']);\n",
       "    }\n",
       "    function toolbar_mouse_event(event) {\n",
       "        return fig.toolbar_button_onmouseover(event['data']);\n",
       "    }\n",
       "\n",
       "    for(var toolbar_ind in mpl.toolbar_items){\n",
       "        var name = mpl.toolbar_items[toolbar_ind][0];\n",
       "        var tooltip = mpl.toolbar_items[toolbar_ind][1];\n",
       "        var image = mpl.toolbar_items[toolbar_ind][2];\n",
       "        var method_name = mpl.toolbar_items[toolbar_ind][3];\n",
       "\n",
       "        if (!name) { continue; };\n",
       "\n",
       "        var button = $('<button class=\"btn btn-default\" href=\"#\" title=\"' + name + '\"><i class=\"fa ' + image + ' fa-lg\"></i></button>');\n",
       "        button.click(method_name, toolbar_event);\n",
       "        button.mouseover(tooltip, toolbar_mouse_event);\n",
       "        nav_element.append(button);\n",
       "    }\n",
       "\n",
       "    // Add the status bar.\n",
       "    var status_bar = $('<span class=\"mpl-message\" style=\"text-align:right; float: right;\"/>');\n",
       "    nav_element.append(status_bar);\n",
       "    this.message = status_bar[0];\n",
       "\n",
       "    // Add the close button to the window.\n",
       "    var buttongrp = $('<div class=\"btn-group inline pull-right\"></div>');\n",
       "    var button = $('<button class=\"btn btn-mini btn-primary\" href=\"#\" title=\"Stop Interaction\"><i class=\"fa fa-power-off icon-remove icon-large\"></i></button>');\n",
       "    button.click(function (evt) { fig.handle_close(fig, {}); } );\n",
       "    button.mouseover('Stop Interaction', toolbar_mouse_event);\n",
       "    buttongrp.append(button);\n",
       "    var titlebar = this.root.find($('.ui-dialog-titlebar'));\n",
       "    titlebar.prepend(buttongrp);\n",
       "}\n",
       "\n",
       "mpl.figure.prototype._root_extra_style = function(el){\n",
       "    var fig = this\n",
       "    el.on(\"remove\", function(){\n",
       "\tfig.close_ws(fig, {});\n",
       "    });\n",
       "}\n",
       "\n",
       "mpl.figure.prototype._canvas_extra_style = function(el){\n",
       "    // this is important to make the div 'focusable\n",
       "    el.attr('tabindex', 0)\n",
       "    // reach out to IPython and tell the keyboard manager to turn it's self\n",
       "    // off when our div gets focus\n",
       "\n",
       "    // location in version 3\n",
       "    if (IPython.notebook.keyboard_manager) {\n",
       "        IPython.notebook.keyboard_manager.register_events(el);\n",
       "    }\n",
       "    else {\n",
       "        // location in version 2\n",
       "        IPython.keyboard_manager.register_events(el);\n",
       "    }\n",
       "\n",
       "}\n",
       "\n",
       "mpl.figure.prototype._key_event_extra = function(event, name) {\n",
       "    var manager = IPython.notebook.keyboard_manager;\n",
       "    if (!manager)\n",
       "        manager = IPython.keyboard_manager;\n",
       "\n",
       "    // Check for shift+enter\n",
       "    if (event.shiftKey && event.which == 13) {\n",
       "        this.canvas_div.blur();\n",
       "        // select the cell after this one\n",
       "        var index = IPython.notebook.find_cell_index(this.cell_info[0]);\n",
       "        IPython.notebook.select(index + 1);\n",
       "    }\n",
       "}\n",
       "\n",
       "mpl.figure.prototype.handle_save = function(fig, msg) {\n",
       "    fig.ondownload(fig, null);\n",
       "}\n",
       "\n",
       "\n",
       "mpl.find_output_cell = function(html_output) {\n",
       "    // Return the cell and output element which can be found *uniquely* in the notebook.\n",
       "    // Note - this is a bit hacky, but it is done because the \"notebook_saving.Notebook\"\n",
       "    // IPython event is triggered only after the cells have been serialised, which for\n",
       "    // our purposes (turning an active figure into a static one), is too late.\n",
       "    var cells = IPython.notebook.get_cells();\n",
       "    var ncells = cells.length;\n",
       "    for (var i=0; i<ncells; i++) {\n",
       "        var cell = cells[i];\n",
       "        if (cell.cell_type === 'code'){\n",
       "            for (var j=0; j<cell.output_area.outputs.length; j++) {\n",
       "                var data = cell.output_area.outputs[j];\n",
       "                if (data.data) {\n",
       "                    // IPython >= 3 moved mimebundle to data attribute of output\n",
       "                    data = data.data;\n",
       "                }\n",
       "                if (data['text/html'] == html_output) {\n",
       "                    return [cell, data, j];\n",
       "                }\n",
       "            }\n",
       "        }\n",
       "    }\n",
       "}\n",
       "\n",
       "// Register the function which deals with the matplotlib target/channel.\n",
       "// The kernel may be null if the page has been refreshed.\n",
       "if (IPython.notebook.kernel != null) {\n",
       "    IPython.notebook.kernel.comm_manager.register_target('matplotlib', mpl.mpl_figure_comm);\n",
       "}\n"
      ],
      "text/plain": [
       "<IPython.core.display.Javascript object>"
      ]
     },
     "metadata": {},
     "output_type": "display_data"
    },
    {
     "data": {
      "text/html": [
       "<img src=\"data:image/png;base64,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\" width=\"640\">"
      ],
      "text/plain": [
       "<IPython.core.display.HTML object>"
      ]
     },
     "metadata": {},
     "output_type": "display_data"
    }
   ],
   "source": [
    "baseimage3(A)"
   ]
  },
  {
   "cell_type": "markdown",
   "metadata": {
    "deletable": true,
    "editable": true,
    "slideshow": {
     "slide_type": "slide"
    }
   },
   "source": [
    "Jede Rotation in 3d ist also eine 2d Drehung um die Euler Achse. \n",
    "Eine solche Achse existiert immer! \n",
    "\n",
    "Punkte auf der Euler Achse bleiben unverändert.\n",
    "Jeder Punkt liegt in einer Ebene orthogonal zur Euler Achse und bleibt auch nach der Rotation in dieser Ebene.\n",
    "\n",
    "Die Berechnung der Euler Achse und des Drehwinkels $\\varphi$ ist etwas technisch (ergo Hausaufgabe)."
   ]
  },
  {
   "cell_type": "code",
   "execution_count": 1091,
   "metadata": {
    "collapsed": true,
    "deletable": true,
    "editable": true,
    "slideshow": {
     "slide_type": "skip"
    }
   },
   "outputs": [],
   "source": [
    "# There are always 3 of them! \n",
    "# one always seems to be 1\n",
    "# The other two eigenvalues are $z$ and $\\bar{z}$\n",
    "# Can we compute $\\mathbf{A}*n=n$ without too much hassle?\n",
    "# What's the interpretation of n?\n",
    "\n",
    "#A^T*n = A^T*A*n=n\n",
    "#(A^T - A)*n = 0\n",
    "#B = A^T-A = 0"
   ]
  },
  {
   "cell_type": "code",
   "execution_count": 1092,
   "metadata": {
    "collapsed": false,
    "deletable": true,
    "editable": true,
    "slideshow": {
     "slide_type": "slide"
    }
   },
   "outputs": [
    {
     "name": "stdout",
     "output_type": "stream",
     "text": [
      "1.59443642915e-16\n",
      "148.8344162\n"
     ]
    }
   ],
   "source": [
    "A = rand_so3()\n",
    "\n",
    "def euler(A, eps=1e-10):\n",
    "    assert np.abs(np.linalg.det(A)-1) < eps, \"Die Determinante der Matrix A ist {0}\".format(np.linalg.det(A))\n",
    "    assert np.linalg.norm(np.dot(A.T,A)-np.eye(3), 'fro') < eps, \"Die Matrix A ist nicht orthonormal\"\n",
    "    assert A.shape==(3,3), \"Die Matrix A ist nicht 3 x 3\"\n",
    "\n",
    "    theta = np.arccos((np.trace(A)-1)/2)\n",
    "    e_1 = A[2,1]-A[1,2]\n",
    "    e_2 = A[0,2]-A[2,0]\n",
    "    e_3 = A[1,0]-A[0,1]\n",
    "    \n",
    "    n = np.array([e_1,e_2,e_3]) \n",
    "    \n",
    "    assert np.abs(np.linalg.norm(n,2)-2*np.sin(theta)) < eps\n",
    "    return n/np.linalg.norm(n,2), theta\n",
    "    \n",
    "\n",
    "axis, angle = euler(A)\n",
    "# check if A*axis == n\n",
    "print(np.linalg.norm(np.dot(A,axis)-axis, 2))\n",
    "print(180*angle/np.pi)"
   ]
  },
  {
   "cell_type": "markdown",
   "metadata": {
    "collapsed": true,
    "deletable": true,
    "editable": true,
    "slideshow": {
     "slide_type": "slide"
    }
   },
   "source": [
    "* Die Idee ist es die Rotation als Paar aus Achse $(x_1, x_2, x_3)$ mit $x_1^2 + x_2^2 + x_3^2=1$ und Winkel $\\varphi$ anzugeben. Das schaffen wir eben genau mit den Quaternionen uns insbesondere den Versoren:\n",
    "\\\\[\n",
    "q = \\cos(\\varphi/2) + \\sin(\\varphi/2) (ix_1 + jx_2 + kx_3)\n",
    "\\\\]\n",
    "* Ein Vektor $x \\in \\mathbb{R}^3$ kann mit der reinen Quaternion \n",
    "\\\\[\n",
    "x_r = ix_1 + jx_2 + kx_3\n",
    "\\\\]\n",
    "identifiziert werden.\n",
    "* Die Multiplikation der Quaternionen folgt\n",
    "\\\\[\n",
    "i^2 = j^2 = k^2 = ijk = -1\n",
    "\\\\]\n",
    "* Die Rotation ist dann der vektorwertige Teil der Quaternion\n",
    "\\\\[\n",
    "x' = q x_r \\bar{q}\n",
    "\\\\]\n"
   ]
  },
  {
   "cell_type": "code",
   "execution_count": 1093,
   "metadata": {
    "collapsed": true,
    "slideshow": {
     "slide_type": "slide"
    }
   },
   "outputs": [],
   "source": [
    "import numpy as np\n",
    "\n",
    "def fromSO3(A):\n",
    "    axis, angle = euler(A)\n",
    "    vector = np.sin(angle/2)*axis\n",
    "    return Quaternion(np.array([np.cos(angle/2), vector[0], vector[1], vector[2]]))\n",
    "    \n",
    "def fromSO3_fast(A):\n",
    "    q_r = 0.5*np.sqrt(1 + np.trace(A))\n",
    "    q_i = (A[2,1]- A[1,2])/(4*q_r)\n",
    "    q_j = (A[0,2]- A[2,0])/(4*q_r)\n",
    "    q_k = (A[1,0]- A[0,1])/(4*q_r)\n",
    "    return Quaternion(np.array([q_r, q_i, q_j, q_k]))\n",
    "\n",
    "    \n",
    "class Quaternion(object):\n",
    "    def __init__(self, q):\n",
    "        assert len(q) == 4\n",
    "        self.__q = q\n",
    "        # make the array immutable\n",
    "        self.__q.flags.writeable = False\n",
    "    \n",
    "    @property\n",
    "    def conjugate(self):\n",
    "        return Quaternion(np.array([self.__q[0], -self.__q[1], -self.__q[2], -self.__q[3]]))\n",
    "    \n",
    "    @property\n",
    "    def versor(self):\n",
    "        return Quaternion(self.__q/self.norm)\n",
    "    \n",
    "    @property\n",
    "    def norm(self):\n",
    "        return np.linalg.norm(self.__q, 2)\n",
    "    \n",
    "    def __repr__(self):\n",
    "        return \"Q{0}\".format(self.__q)\n",
    "    \n",
    "    def __mul__(self, other):\n",
    "        if isinstance(other, Quaternion):\n",
    "            w1, x1, y1, z1 = tuple(self.__q)\n",
    "            w2, x2, y2, z2 = tuple(other.__q)\n",
    "\n",
    "            w = w1 * w2 - x1 * x2 - y1 * y2 - z1 * z2\n",
    "            x = w1 * x2 + x1 * w2 + y1 * z2 - z1 * y2\n",
    "            y = w1 * y2 + y1 * w2 + z1 * x2 - x1 * z2\n",
    "            z = w1 * z2 + z1 * w2 + x1 * y2 - y1 * x2\n",
    "            return Quaternion(np.array([w, x, y, z]))\n",
    "        else:\n",
    "            raise NotImplementedError()\n",
    "    \n",
    "    def __rmul__(self, other):\n",
    "        return Quaternion(other*self.__q)\n",
    "    \n",
    "    def __add__(self, other):\n",
    "        return Quaternion(self.__q + other.__q)\n",
    "    \n",
    "    def rotate(self, x):\n",
    "        # construct the pure quaternion\n",
    "        z = Quaternion(np.array([0, x[0], x[1], x[2]]))\n",
    "        assert np.abs(self.norm-1) < 1e-10, \"The quaternion has to be a versor!\"\n",
    "        return (self*z*self.conjugate).vector\n",
    "    \n",
    "    @property\n",
    "    def so3(self):    \n",
    "        # there are less expensive formulas for this step. Howe\n",
    "        return np.apply_along_axis(self.rotate, 0, np.eye(3))\n",
    "        \n",
    "    @property\n",
    "    def vector(self):\n",
    "        return self.__q[1:]\n",
    "    \n",
    "    @property\n",
    "    def real(self):\n",
    "        return self.__q[0]"
   ]
  },
  {
   "cell_type": "code",
   "execution_count": 1094,
   "metadata": {
    "collapsed": false,
    "slideshow": {
     "slide_type": "slide"
    }
   },
   "outputs": [
    {
     "name": "stdout",
     "output_type": "stream",
     "text": [
      "[[ 0.62484056  0.39270321 -0.67480254]\n",
      " [-0.7051909  -0.08707184 -0.70365068]\n",
      " [-0.33508218  0.9155341   0.22252471]]\n",
      "1.0\n",
      "3.32595119917e-16\n"
     ]
    }
   ],
   "source": [
    "# compute a Matrix from SO3()\n",
    "A = rand_so3()\n",
    "print(A)\n",
    "print(np.linalg.det(A))\n",
    "print(np.linalg.norm(np.dot(A.T,A)-np.eye(3), 'fro'))"
   ]
  },
  {
   "cell_type": "code",
   "execution_count": 1095,
   "metadata": {
    "collapsed": false,
    "slideshow": {
     "slide_type": "slide"
    }
   },
   "outputs": [
    {
     "name": "stdout",
     "output_type": "stream",
     "text": [
      "Q[ 0.66338025  0.61020236 -0.12802626 -0.41374992]\n",
      "1.27192026216e-16\n",
      "2.49800180541e-16\n"
     ]
    }
   ],
   "source": [
    "q1=fromSO3(A)\n",
    "q2=fromSO3_fast(A)\n",
    "print(q1)\n",
    "print((q1+(-1*q2)).norm)\n",
    "print(np.linalg.norm(A-q2.so3))\n"
   ]
  },
  {
   "cell_type": "code",
   "execution_count": 1096,
   "metadata": {
    "collapsed": false,
    "slideshow": {
     "slide_type": "slide"
    }
   },
   "outputs": [
    {
     "name": "stdout",
     "output_type": "stream",
     "text": [
      "Quaternion Q[ 0.66338025  0.61020236 -0.12802626 -0.41374992]\n",
      "Norm       0.9999999999999999\n",
      "Real       0.663380251909701\n",
      "Vector     [ 0.61020236 -0.12802626 -0.41374992]\n",
      "Versor     Q[ 0.66338025  0.61020236 -0.12802626 -0.41374992]\n",
      "Conjugate  Q[ 0.66338025 -0.61020236  0.12802626  0.41374992]\n"
     ]
    }
   ],
   "source": [
    "print(\"Quaternion {0}\".format(q1))\n",
    "print(\"Norm       {0}\".format(q1.norm))\n",
    "print(\"Real       {0}\".format(q1.real))\n",
    "print(\"Vector     {0}\".format(q1.vector))\n",
    "print(\"Versor     {0}\".format(q1.versor))\n",
    "print(\"Conjugate  {0}\".format(q1.conjugate))"
   ]
  },
  {
   "cell_type": "code",
   "execution_count": 1097,
   "metadata": {
    "collapsed": false,
    "slideshow": {
     "slide_type": "slide"
    }
   },
   "outputs": [
    {
     "name": "stdout",
     "output_type": "stream",
     "text": [
      "Quaternion Vector (Euler-Achse) [ 0.61020236 -0.12802626 -0.41374992]\n",
      "Und rotiert                     [ 0.61020236 -0.12802626 -0.41374992]\n"
     ]
    }
   ],
   "source": [
    "print(\"Quaternion Vector (Euler-Achse) {0}\".format(q2.vector))\n",
    "print(\"Und rotiert                     {0}\".format(q2.rotate(x=q2.vector)))"
   ]
  },
  {
   "cell_type": "code",
   "execution_count": 1098,
   "metadata": {
    "collapsed": false,
    "deletable": true,
    "editable": true,
    "scrolled": true,
    "slideshow": {
     "slide_type": "slide"
    }
   },
   "outputs": [
    {
     "name": "stdout",
     "output_type": "stream",
     "text": [
      "Die Einheitsvektoren rotiert  \n",
      "[[ 0.62484056  0.39270321 -0.67480254]\n",
      " [-0.7051909  -0.08707184 -0.70365068]\n",
      " [-0.33508218  0.9155341   0.22252471]]\n",
      "Die Rotationsmatrix           \n",
      "[[ 0.62484056  0.39270321 -0.67480254]\n",
      " [-0.7051909  -0.08707184 -0.70365068]\n",
      " [-0.33508218  0.9155341   0.22252471]]\n"
     ]
    }
   ],
   "source": [
    "print(\"Die Einheitsvektoren rotiert  \\n{0}\".format(q2.so3))\n",
    "print(\"Die Rotationsmatrix           \\n{0}\".format(A))"
   ]
  },
  {
   "cell_type": "markdown",
   "metadata": {
    "deletable": true,
    "editable": true,
    "slideshow": {
     "slide_type": "slide"
    }
   },
   "source": [
    "### Aber warum?\n",
    "* Die Rotation von (vielen) Punkten mittels Quaternionen ist verglichen mit Rotationsmatrizen teuer.\n",
    "* Interessanter für Rotationen von Rotationen, numerisch stabiler...\n",
    "* Interpolation von Quaternionen (SLERP)..."
   ]
  },
  {
   "cell_type": "markdown",
   "metadata": {
    "deletable": true,
    "editable": true,
    "slideshow": {
     "slide_type": "slide"
    }
   },
   "source": [
    "### Alternative Representations of SO(3) \n",
    "siehe https://github.com/moble/quaternion\n",
    "\n",
    "Euler angles are pretty much the worst things ever and it makes me feel bad even supporting them. Quaternions are faster, more accurate, basically free of singularities, more intuitive, and generally easier to understand. You can work entirely without Euler angles (I certainly do). You absolutely never need them. \n",
    "\n",
    "Es gibt viele mögliche Representationen der Element von SO(3). Siehe https://en.wikipedia.org/wiki/Charts_on_SO(3)\n",
    "\n"
   ]
  },
  {
   "cell_type": "markdown",
   "metadata": {
    "slideshow": {
     "slide_type": "slide"
    }
   },
   "source": [
    "Hausaufgabe: Sie fliegen von Biel direkt zum Nordpol. Was ist Ihr Längengrad? Sie überfliegen den Nordpol und nehmen geradeaus Kurs auf Hawaii... Sie zeichnen den Längengrad auf. Was passiert am Nordpol?"
   ]
  },
  {
   "cell_type": "markdown",
   "metadata": {
    "deletable": true,
    "editable": true,
    "slideshow": {
     "slide_type": "slide"
    }
   },
   "source": [
    "### Und SO(4), ...?\n",
    "\n",
    "Sie können eine jede Rotation in 4d als Paar zweier Rotationen in 2d beschreiben. Gibt es eine Euler-Achse?\n",
    "Gibt es eine Euler-Achse in 5d?\n"
   ]
  },
  {
   "cell_type": "markdown",
   "metadata": {
    "slideshow": {
     "slide_type": "slide"
    }
   },
   "source": [
    "### Zusammenfassung 1:\n",
    "* Komplexe Zahlen eng verwandt mit den Rotationsmatrizen SO(2).\n",
    "* Quaternionen eng verwandt mit den Rotationsmatrizen SO(3).\n",
    "* SO(2) eng verwandt mit SO(3), also Komplexe Zahlen eng verwandt mit Quaternionen."
   ]
  },
  {
   "cell_type": "markdown",
   "metadata": {
    "slideshow": {
     "slide_type": "slide"
    }
   },
   "source": [
    "### Zusammenfassung 2:\n",
    "* Eine Rotation in 3D ist immer eine Rotation um eine feste Euler-Achse.\n",
    "* Die Euler-Achse ist der Eigenvektor (zum Eigenwert 1.0) einer Matrix aus SO(3).\n",
    "* Die Euler-Achse beschreibt den vektorwertigen Anteil der Quarternion."
   ]
  },
  {
   "cell_type": "markdown",
   "metadata": {
    "deletable": true,
    "editable": true,
    "slideshow": {
     "slide_type": "slide"
    }
   },
   "source": [
    "### Zusammenfassung 3:\n",
    "* Quarternionen insbesondere hilfreich bei vielen Rotationen weniger Punkte.\n",
    "* Rotationsmatrizen hilfreich bei wenigen Rotationen vieler Punkte.\n",
    "* Glückliches Leben auch ohne Quaternionen möglich, unmöglich aber ohne Lineare Algebra und Komplexe Zahlen."
   ]
  },
  {
   "cell_type": "code",
   "execution_count": 1099,
   "metadata": {
    "collapsed": true,
    "slideshow": {
     "slide_type": "slide"
    }
   },
   "outputs": [],
   "source": [
    "### Geht es auch mit weniger Mathematik?\n",
    "\n",
    "\n",
    "    \n",
    "    "
   ]
  }
 ],
 "metadata": {
  "celltoolbar": "Slideshow",
  "kernelspec": {
   "display_name": "Python 3",
   "language": "python",
   "name": "python3"
  },
  "language_info": {
   "codemirror_mode": {
    "name": "ipython",
    "version": 3
   },
   "file_extension": ".py",
   "mimetype": "text/x-python",
   "name": "python",
   "nbconvert_exporter": "python",
   "pygments_lexer": "ipython3",
   "version": "3.5.3"
  }
 },
 "nbformat": 4,
 "nbformat_minor": 2
}
