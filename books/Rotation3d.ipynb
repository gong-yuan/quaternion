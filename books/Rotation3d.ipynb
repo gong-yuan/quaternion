{
 "cells": [
  {
   "cell_type": "code",
   "execution_count": 1292,
   "metadata": {
    "collapsed": true,
    "deletable": true,
    "editable": true,
    "slideshow": {
     "slide_type": "skip"
    }
   },
   "outputs": [],
   "source": [
    "%matplotlib notebook"
   ]
  },
  {
   "cell_type": "markdown",
   "metadata": {
    "deletable": true,
    "editable": true,
    "slideshow": {
     "slide_type": "slide"
    }
   },
   "source": [
    "## Rotationen in 3D\n",
    "### Thomas Schmelzer\n",
    "\n"
   ]
  },
  {
   "cell_type": "markdown",
   "metadata": {
    "deletable": true,
    "editable": true,
    "slideshow": {
     "slide_type": "slide"
    }
   },
   "source": [
    "### Rotationen in 3D\n",
    "* Die Rotationsmatrizen $\\textrm{SO}(3)$\n",
    "* Die Eulerachse \n",
    "* Die Quaternionen "
   ]
  },
  {
   "cell_type": "code",
   "execution_count": 1293,
   "metadata": {
    "collapsed": true,
    "deletable": true,
    "editable": true,
    "slideshow": {
     "slide_type": "skip"
    }
   },
   "outputs": [],
   "source": [
    "import matplotlib.pyplot as plt\n",
    "import numpy as np\n",
    "\n",
    "def pp(ax, point, **kwargs):\n",
    "    ax.plot([0, point[0]], [0,point[1]], [0, point[2]], **kwargs)\n",
    "    \n",
    "    "
   ]
  },
  {
   "cell_type": "markdown",
   "metadata": {
    "collapsed": true,
    "deletable": true,
    "editable": true,
    "slideshow": {
     "slide_type": "slide"
    }
   },
   "source": [
    "### Rotationsmatrizen $\\textrm{SO}(3)$\n",
    "\n",
    "$3 \\times 3$ Matrizen, orthonormale Spalten und $\\det(A) = 1$.\n",
    "    \n",
    "Fertig? Matrizen manchmal etwas unhandlich. $9$ Einträge, Fragen der Stabilität?\n"
   ]
  },
  {
   "cell_type": "code",
   "execution_count": 1294,
   "metadata": {
    "collapsed": false,
    "deletable": true,
    "editable": true,
    "slideshow": {
     "slide_type": "slide"
    }
   },
   "outputs": [
    {
     "name": "stdout",
     "output_type": "stream",
     "text": [
      "Determinante von A: 1.0\n",
      "Check if columns are orthonormal\n",
      "7.82241978952e-17\n"
     ]
    }
   ],
   "source": [
    "# construct a random SO(3) matrix\n",
    "\n",
    "import numpy as np\n",
    "\n",
    "# We construct a random element in SO(3)\n",
    "def rand_so3():\n",
    "    A = np.random.randn(3,3)\n",
    "    # normalize the first column\n",
    "    A[:,0]=A[:,0]/np.linalg.norm(A[:,0], 2)\n",
    "    # make the 2nd column orthogonal to first column\n",
    "    A[:,1]=A[:,1] - np.dot(A[:,0], A[:,1])*A[:,0]\n",
    "    # normalize the second column\n",
    "    A[:,1]=A[:,1]/np.linalg.norm(A[:,1], 2)\n",
    "    # The third column is just the cross product of the first two columns => det = 1\n",
    "    A[:,2]=np.cross(A[:,0],A[:,1])\n",
    "    return A\n",
    "\n",
    "A = rand_so3()\n",
    "print(\"Determinante von A: {0}\".format(np.linalg.det(A)))\n",
    "print(\"Check if columns are orthonormal\")\n",
    "print(np.linalg.norm(np.dot(A.T,A)-np.eye(3),'fro'))"
   ]
  },
  {
   "cell_type": "code",
   "execution_count": 1295,
   "metadata": {
    "collapsed": false,
    "deletable": true,
    "editable": true,
    "slideshow": {
     "slide_type": "slide"
    }
   },
   "outputs": [
    {
     "name": "stdout",
     "output_type": "stream",
     "text": [
      "Eigenwerte von A:\n",
      "       Real      Imag  Abs         phi\n",
      "0 -0.526499 -0.850175  1.0 -121.769243\n",
      "1 -0.526499  0.850175  1.0  121.769243\n",
      "2  1.000000  0.000000  1.0    0.000000\n",
      "\n",
      "Eigenwerte von A:\n",
      "      Real      Imag  Abs         phi\n",
      "0 -0.58903 -0.808111  1.0 -126.088207\n",
      "1 -0.58903  0.808111  1.0  126.088207\n",
      "2  1.00000  0.000000  1.0    0.000000\n",
      "\n",
      "Eigenwerte von A:\n",
      "       Real      Imag  Abs         phi\n",
      "0 -0.866123 -0.499832  1.0 -150.011134\n",
      "1 -0.866123  0.499832  1.0  150.011134\n",
      "2  1.000000  0.000000  1.0    0.000000\n",
      "\n"
     ]
    }
   ],
   "source": [
    "from numpy.linalg import eig\n",
    "import pandas as pd\n",
    "\n",
    "for i in range(0,3):\n",
    "    values, vectors = eig(rand_so3())\n",
    "    d = dict()\n",
    "    for j,value in enumerate(np.sort(values)):\n",
    "        d[j] = {\"Real\": value.real, \"Imag\": value.imag, \n",
    "                \"Abs\": np.abs(value), \"phi\": np.angle(value, deg=True)}\n",
    "    \n",
    "    print(\"Eigenwerte von A:\\n{0}\\n\".format(pd.DataFrame(d).transpose()[[\"Real\",\"Imag\",\"Abs\",\"phi\"]]))"
   ]
  },
  {
   "cell_type": "markdown",
   "metadata": {
    "deletable": true,
    "editable": true,
    "slideshow": {
     "slide_type": "skip"
    }
   },
   "source": [
    "* Es gibt immer einen Eigenwert 1\n",
    "* Eine reelle 3 x 3 Matrix hat immer mind. einen reellen Eigenwert\n",
    "* Das charakteristische Polynom einer 3x3 Matrix hat den Grad 3. \n",
    "* Ein Polynom vom Grad 3 hat mind eine reelle Nullstelle (das ist nicht wahr fuer Polynome vom Grad 2,4,6,...)\n",
    "* Was können Sie über die beiden anderen Eigenwerte sagen? \n",
    "* Was können Sie über das Produkt der Eigenwerte sagen?\n",
    "* Was bedeutet es geometrisch so einen Eigenwert zu haben?"
   ]
  },
  {
   "cell_type": "markdown",
   "metadata": {
    "collapsed": true,
    "deletable": true,
    "editable": true,
    "slideshow": {
     "slide_type": "slide"
    }
   },
   "source": [
    "### Beobachtungen\n",
    "* Es existiert ein Vektor x (reell), so dass A*x = x. Diese Vektor beschreibt die __Euler Achse__\n",
    "* Die beiden anderen Eigenwerte sind $z$ und $\\bar{z}$.\n",
    "* $A*x=x$ ist auch die Gleichung für die stationäre Verteilung einer Markovkette. $A$ ist dann die Transistion Matrix."
   ]
  },
  {
   "cell_type": "code",
   "execution_count": 1296,
   "metadata": {
    "collapsed": false,
    "deletable": true,
    "editable": true,
    "scrolled": true,
    "slideshow": {
     "slide_type": "slide"
    }
   },
   "outputs": [
    {
     "data": {
      "image/png": "[encoded data removed]",
      "text/plain": [
       "<IPython.core.display.Image object>"
      ]
     },
     "execution_count": 1296,
     "metadata": {},
     "output_type": "execute_result"
    }
   ],
   "source": [
    "from IPython.display import Image\n",
    "Image(\"Euler_AxisAngle.png\")"
   ]
  },
  {
   "cell_type": "code",
   "execution_count": 1297,
   "metadata": {
    "collapsed": true,
    "deletable": true,
    "editable": true,
    "slideshow": {
     "slide_type": "skip"
    }
   },
   "outputs": [],
   "source": [
    "def baseimage3(a):\n",
    "    %matplotlib notebook\n",
    "    #import matplotlib as mpl\n",
    "    from mpl_toolkits.mplot3d import Axes3D\n",
    "    #import numpy as np\n",
    "    import matplotlib.pyplot as plt\n",
    "\n",
    "    fig = plt.figure()\n",
    "    ax = fig.gca(projection='3d')\n",
    "\n",
    "    from numpy.linalg import eig\n",
    "    values, vectors = eig(A)\n",
    "    i=np.argsort(values)\n",
    "    values=values[i]\n",
    "    euler=vectors[:,-1].real\n",
    "\n",
    "    pp(ax, point=np.array([1,0,0]), color=\"b\", linewidth=5)\n",
    "    pp(ax, point=np.array([0,1,0]), color=\"r\", linewidth=5)\n",
    "    pp(ax, point=np.array([0,0,1]), color=\"g\", linewidth=5)\n",
    "    pp(ax, point=a[:,0], color=\"b\", linewidth=5, linestyle=\"--\")\n",
    "    pp(ax, point=a[:,1], color=\"r\", linewidth=5, linestyle=\"--\")\n",
    "    pp(ax, point=a[:,2], color=\"g\", linewidth=5, linestyle=\"--\")\n",
    "    pp(ax, point=euler, color=\"k\", linewidth=5, linestyle=\"--\")\n",
    "        \n",
    "    plt.grid()\n",
    "    plt.show()"
   ]
  },
  {
   "cell_type": "code",
   "execution_count": 1298,
   "metadata": {
    "collapsed": false,
    "deletable": true,
    "editable": true,
    "scrolled": true,
    "slideshow": {
     "slide_type": "slide"
    }
   },
   "outputs": [
    {
     "data": {
      "application/javascript": [
       "/* Put everything inside the global mpl namespace */\n",
       "window.mpl = {};\n",
       "\n",
       "\n",
       "mpl.get_websocket_type = function() {\n",
       "    if (typeof(WebSocket) !== 'undefined') {\n",
       "        return WebSocket;\n",
       "    } else if (typeof(MozWebSocket) !== 'undefined') {\n",
       "        return MozWebSocket;\n",
       "    } else {\n",
       "        alert('Your browser does not have WebSocket support.' +\n",
       "              'Please try Chrome, Safari or Firefox ≥ 6. ' +\n",
       "              'Firefox 4 and 5 are also supported but you ' +\n",
       "              'have to enable WebSockets in about:config.');\n",
       "    };\n",
       "}\n",
       "\n",
       "mpl.figure = function(figure_id, websocket, ondownload, parent_element) {\n",
       "    this.id = figure_id;\n",
       "\n",
       "    this.ws = websocket;\n",
       "\n",
       "    this.supports_binary = (this.ws.binaryType != undefined);\n",
       "\n",
       "    if (!this.supports_binary) {\n",
       "        var warnings = document.getElementById(\"mpl-warnings\");\n",
       "        if (warnings) {\n",
       "            warnings.style.display = 'block';\n",
       "            warnings.textContent = (\n",
       "                \"This browser does not support binary websocket messages. \" +\n",
       "                    \"Performance may be slow.\");\n",
       "        }\n",
       "    }\n",
       "\n",
       "    this.imageObj = new Image();\n",
       "\n",
       "    this.context = undefined;\n",
       "    this.message = undefined;\n",
       "    this.canvas = undefined;\n",
       "    this.rubberband_canvas = undefined;\n",
       "    this.rubberband_context = undefined;\n",
       "    this.format_dropdown = undefined;\n",
       "\n",
       "    this.image_mode = 'full';\n",
       "\n",
       "    this.root = $('<div/>');\n",
       "    this._root_extra_style(this.root)\n",
       "    this.root.attr('style', 'display: inline-block');\n",
       "\n",
       "    $(parent_element).append(this.root);\n",
       "\n",
       "    this._init_header(this);\n",
       "    this._init_canvas(this);\n",
       "    this._init_toolbar(this);\n",
       "\n",
       "    var fig = this;\n",
       "\n",
       "    this.waiting = false;\n",
       "\n",
       "    this.ws.onopen =  function () {\n",
       "            fig.send_message(\"supports_binary\", {value: fig.supports_binary});\n",
       "            fig.send_message(\"send_image_mode\", {});\n",
       "            if (mpl.ratio != 1) {\n",
       "                fig.send_message(\"set_dpi_ratio\", {'dpi_ratio': mpl.ratio});\n",
       "            }\n",
       "            fig.send_message(\"refresh\", {});\n",
       "        }\n",
       "\n",
       "    this.imageObj.onload = function() {\n",
       "            if (fig.image_mode == 'full') {\n",
       "                // Full images could contain transparency (where diff images\n",
       "                // almost always do), so we need to clear the canvas so that\n",
       "                // there is no ghosting.\n",
       "                fig.context.clearRect(0, 0, fig.canvas.width, fig.canvas.height);\n",
       "            }\n",
       "            fig.context.drawImage(fig.imageObj, 0, 0);\n",
       "        };\n",
       "\n",
       "    this.imageObj.onunload = function() {\n",
       "        this.ws.close();\n",
       "    }\n",
       "\n",
       "    this.ws.onmessage = this._make_on_message_function(this);\n",
       "\n",
       "    this.ondownload = ondownload;\n",
       "}\n",
       "\n",
       "mpl.figure.prototype._init_header = function() {\n",
       "    var titlebar = $(\n",
       "        '<div class=\"ui-dialog-titlebar ui-widget-header ui-corner-all ' +\n",
       "        'ui-helper-clearfix\"/>');\n",
       "    var titletext = $(\n",
       "        '<div class=\"ui-dialog-title\" style=\"width: 100%; ' +\n",
       "        'text-align: center; padding: 3px;\"/>');\n",
       "    titlebar.append(titletext)\n",
       "    this.root.append(titlebar);\n",
       "    this.header = titletext[0];\n",
       "}\n",
       "\n",
       "\n",
       "\n",
       "mpl.figure.prototype._canvas_extra_style = function(canvas_div) {\n",
       "\n",
       "}\n",
       "\n",
       "\n",
       "mpl.figure.prototype._root_extra_style = function(canvas_div) {\n",
       "\n",
       "}\n",
       "\n",
       "mpl.figure.prototype._init_canvas = function() {\n",
       "    var fig = this;\n",
       "\n",
       "    var canvas_div = $('<div/>');\n",
       "\n",
       "    canvas_div.attr('style', 'position: relative; clear: both; outline: 0');\n",
       "\n",
       "    function canvas_keyboard_event(event) {\n",
       "        return fig.key_event(event, event['data']);\n",
       "    }\n",
       "\n",
       "    canvas_div.keydown('key_press', canvas_keyboard_event);\n",
       "    canvas_div.keyup('key_release', canvas_keyboard_event);\n",
       "    this.canvas_div = canvas_div\n",
       "    this._canvas_extra_style(canvas_div)\n",
       "    this.root.append(canvas_div);\n",
       "\n",
       "    var canvas = $('<canvas/>');\n",
       "    canvas.addClass('mpl-canvas');\n",
       "    canvas.attr('style', \"left: 0; top: 0; z-index: 0; outline: 0\")\n",
       "\n",
       "    this.canvas = canvas[0];\n",
       "    this.context = canvas[0].getContext(\"2d\");\n",
       "\n",
       "    var backingStore = this.context.backingStorePixelRatio ||\n",
       "\tthis.context.webkitBackingStorePixelRatio ||\n",
       "\tthis.context.mozBackingStorePixelRatio ||\n",
       "\tthis.context.msBackingStorePixelRatio ||\n",
       "\tthis.context.oBackingStorePixelRatio ||\n",
       "\tthis.context.backingStorePixelRatio || 1;\n",
       "\n",
       "    mpl.ratio = (window.devicePixelRatio || 1) / backingStore;\n",
       "\n",
       "    var rubberband = $('<canvas/>');\n",
       "    rubberband.attr('style', \"position: absolute; left: 0; top: 0; z-index: 1;\")\n",
       "\n",
       "    var pass_mouse_events = true;\n",
       "\n",
       "    canvas_div.resizable({\n",
       "        start: function(event, ui) {\n",
       "            pass_mouse_events = false;\n",
       "        },\n",
       "        resize: function(event, ui) {\n",
       "            fig.request_resize(ui.size.width, ui.size.height);\n",
       "        },\n",
       "        stop: function(event, ui) {\n",
       "            pass_mouse_events = true;\n",
       "            fig.request_resize(ui.size.width, ui.size.height);\n",
       "        },\n",
       "    });\n",
       "\n",
       "    function mouse_event_fn(event) {\n",
       "        if (pass_mouse_events)\n",
       "            return fig.mouse_event(event, event['data']);\n",
       "    }\n",
       "\n",
       "    rubberband.mousedown('button_press', mouse_event_fn);\n",
       "    rubberband.mouseup('button_release', mouse_event_fn);\n",
       "    // Throttle sequential mouse events to 1 every 20ms.\n",
       "    rubberband.mousemove('motion_notify', mouse_event_fn);\n",
       "\n",
       "    rubberband.mouseenter('figure_enter', mouse_event_fn);\n",
       "    rubberband.mouseleave('figure_leave', mouse_event_fn);\n",
       "\n",
       "    canvas_div.on(\"wheel\", function (event) {\n",
       "        event = event.originalEvent;\n",
       "        event['data'] = 'scroll'\n",
       "        if (event.deltaY < 0) {\n",
       "            event.step = 1;\n",
       "        } else {\n",
       "            event.step = -1;\n",
       "        }\n",
       "        mouse_event_fn(event);\n",
       "    });\n",
       "\n",
       "    canvas_div.append(canvas);\n",
       "    canvas_div.append(rubberband);\n",
       "\n",
       "    this.rubberband = rubberband;\n",
       "    this.rubberband_canvas = rubberband[0];\n",
       "    this.rubberband_context = rubberband[0].getContext(\"2d\");\n",
       "    this.rubberband_context.strokeStyle = \"#000000\";\n",
       "\n",
       "    this._resize_canvas = function(width, height) {\n",
       "        // Keep the size of the canvas, canvas container, and rubber band\n",
       "        // canvas in synch.\n",
       "        canvas_div.css('width', width)\n",
       "        canvas_div.css('height', height)\n",
       "\n",
       "        canvas.attr('width', width * mpl.ratio);\n",
       "        canvas.attr('height', height * mpl.ratio);\n",
       "        canvas.attr('style', 'width: ' + width + 'px; height: ' + height + 'px;');\n",
       "\n",
       "        rubberband.attr('width', width);\n",
       "        rubberband.attr('height', height);\n",
       "    }\n",
       "\n",
       "    // Set the figure to an initial 600x600px, this will subsequently be updated\n",
       "    // upon first draw.\n",
       "    this._resize_canvas(600, 600);\n",
       "\n",
       "    // Disable right mouse context menu.\n",
       "    $(this.rubberband_canvas).bind(\"contextmenu\",function(e){\n",
       "        return false;\n",
       "    });\n",
       "\n",
       "    function set_focus () {\n",
       "        canvas.focus();\n",
       "        canvas_div.focus();\n",
       "    }\n",
       "\n",
       "    window.setTimeout(set_focus, 100);\n",
       "}\n",
       "\n",
       "mpl.figure.prototype._init_toolbar = function() {\n",
       "    var fig = this;\n",
       "\n",
       "    var nav_element = $('<div/>')\n",
       "    nav_element.attr('style', 'width: 100%');\n",
       "    this.root.append(nav_element);\n",
       "\n",
       "    // Define a callback function for later on.\n",
       "    function toolbar_event(event) {\n",
       "        return fig.toolbar_button_onclick(event['data']);\n",
       "    }\n",
       "    function toolbar_mouse_event(event) {\n",
       "        return fig.toolbar_button_onmouseover(event['data']);\n",
       "    }\n",
       "\n",
       "    for(var toolbar_ind in mpl.toolbar_items) {\n",
       "        var name = mpl.toolbar_items[toolbar_ind][0];\n",
       "        var tooltip = mpl.toolbar_items[toolbar_ind][1];\n",
       "        var image = mpl.toolbar_items[toolbar_ind][2];\n",
       "        var method_name = mpl.toolbar_items[toolbar_ind][3];\n",
       "\n",
       "        if (!name) {\n",
       "            // put a spacer in here.\n",
       "            continue;\n",
       "        }\n",
       "        var button = $('<button/>');\n",
       "        button.addClass('ui-button ui-widget ui-state-default ui-corner-all ' +\n",
       "                        'ui-button-icon-only');\n",
       "        button.attr('role', 'button');\n",
       "        button.attr('aria-disabled', 'false');\n",
       "        button.click(method_name, toolbar_event);\n",
       "        button.mouseover(tooltip, toolbar_mouse_event);\n",
       "\n",
       "        var icon_img = $('<span/>');\n",
       "        icon_img.addClass('ui-button-icon-primary ui-icon');\n",
       "        icon_img.addClass(image);\n",
       "        icon_img.addClass('ui-corner-all');\n",
       "\n",
       "        var tooltip_span = $('<span/>');\n",
       "        tooltip_span.addClass('ui-button-text');\n",
       "        tooltip_span.html(tooltip);\n",
       "\n",
       "        button.append(icon_img);\n",
       "        button.append(tooltip_span);\n",
       "\n",
       "        nav_element.append(button);\n",
       "    }\n",
       "\n",
       "    var fmt_picker_span = $('<span/>');\n",
       "\n",
       "    var fmt_picker = $('<select/>');\n",
       "    fmt_picker.addClass('mpl-toolbar-option ui-widget ui-widget-content');\n",
       "    fmt_picker_span.append(fmt_picker);\n",
       "    nav_element.append(fmt_picker_span);\n",
       "    this.format_dropdown = fmt_picker[0];\n",
       "\n",
       "    for (var ind in mpl.extensions) {\n",
       "        var fmt = mpl.extensions[ind];\n",
       "        var option = $(\n",
       "            '<option/>', {selected: fmt === mpl.default_extension}).html(fmt);\n",
       "        fmt_picker.append(option)\n",
       "    }\n",
       "\n",
       "    // Add hover states to the ui-buttons\n",
       "    $( \".ui-button\" ).hover(\n",
       "        function() { $(this).addClass(\"ui-state-hover\");},\n",
       "        function() { $(this).removeClass(\"ui-state-hover\");}\n",
       "    );\n",
       "\n",
       "    var status_bar = $('<span class=\"mpl-message\"/>');\n",
       "    nav_element.append(status_bar);\n",
       "    this.message = status_bar[0];\n",
       "}\n",
       "\n",
       "mpl.figure.prototype.request_resize = function(x_pixels, y_pixels) {\n",
       "    // Request matplotlib to resize the figure. Matplotlib will then trigger a resize in the client,\n",
       "    // which will in turn request a refresh of the image.\n",
       "    this.send_message('resize', {'width': x_pixels, 'height': y_pixels});\n",
       "}\n",
       "\n",
       "mpl.figure.prototype.send_message = function(type, properties) {\n",
       "    properties['type'] = type;\n",
       "    properties['figure_id'] = this.id;\n",
       "    this.ws.send(JSON.stringify(properties));\n",
       "}\n",
       "\n",
       "mpl.figure.prototype.send_draw_message = function() {\n",
       "    if (!this.waiting) {\n",
       "        this.waiting = true;\n",
       "        this.ws.send(JSON.stringify({type: \"draw\", figure_id: this.id}));\n",
       "    }\n",
       "}\n",
       "\n",
       "\n",
       "mpl.figure.prototype.handle_save = function(fig, msg) {\n",
       "    var format_dropdown = fig.format_dropdown;\n",
       "    var format = format_dropdown.options[format_dropdown.selectedIndex].value;\n",
       "    fig.ondownload(fig, format);\n",
       "}\n",
       "\n",
       "\n",
       "mpl.figure.prototype.handle_resize = function(fig, msg) {\n",
       "    var size = msg['size'];\n",
       "    if (size[0] != fig.canvas.width || size[1] != fig.canvas.height) {\n",
       "        fig._resize_canvas(size[0], size[1]);\n",
       "        fig.send_message(\"refresh\", {});\n",
       "    };\n",
       "}\n",
       "\n",
       "mpl.figure.prototype.handle_rubberband = function(fig, msg) {\n",
       "    var x0 = msg['x0'] / mpl.ratio;\n",
       "    var y0 = (fig.canvas.height - msg['y0']) / mpl.ratio;\n",
       "    var x1 = msg['x1'] / mpl.ratio;\n",
       "    var y1 = (fig.canvas.height - msg['y1']) / mpl.ratio;\n",
       "    x0 = Math.floor(x0) + 0.5;\n",
       "    y0 = Math.floor(y0) + 0.5;\n",
       "    x1 = Math.floor(x1) + 0.5;\n",
       "    y1 = Math.floor(y1) + 0.5;\n",
       "    var min_x = Math.min(x0, x1);\n",
       "    var min_y = Math.min(y0, y1);\n",
       "    var width = Math.abs(x1 - x0);\n",
       "    var height = Math.abs(y1 - y0);\n",
       "\n",
       "    fig.rubberband_context.clearRect(\n",
       "        0, 0, fig.canvas.width, fig.canvas.height);\n",
       "\n",
       "    fig.rubberband_context.strokeRect(min_x, min_y, width, height);\n",
       "}\n",
       "\n",
       "mpl.figure.prototype.handle_figure_label = function(fig, msg) {\n",
       "    // Updates the figure title.\n",
       "    fig.header.textContent = msg['label'];\n",
       "}\n",
       "\n",
       "mpl.figure.prototype.handle_cursor = function(fig, msg) {\n",
       "    var cursor = msg['cursor'];\n",
       "    switch(cursor)\n",
       "    {\n",
       "    case 0:\n",
       "        cursor = 'pointer';\n",
       "        break;\n",
       "    case 1:\n",
       "        cursor = 'default';\n",
       "        break;\n",
       "    case 2:\n",
       "        cursor = 'crosshair';\n",
       "        break;\n",
       "    case 3:\n",
       "        cursor = 'move';\n",
       "        break;\n",
       "    }\n",
       "    fig.rubberband_canvas.style.cursor = cursor;\n",
       "}\n",
       "\n",
       "mpl.figure.prototype.handle_message = function(fig, msg) {\n",
       "    fig.message.textContent = msg['message'];\n",
       "}\n",
       "\n",
       "mpl.figure.prototype.handle_draw = function(fig, msg) {\n",
       "    // Request the server to send over a new figure.\n",
       "    fig.send_draw_message();\n",
       "}\n",
       "\n",
       "mpl.figure.prototype.handle_image_mode = function(fig, msg) {\n",
       "    fig.image_mode = msg['mode'];\n",
       "}\n",
       "\n",
       "mpl.figure.prototype.updated_canvas_event = function() {\n",
       "    // Called whenever the canvas gets updated.\n",
       "    this.send_message(\"ack\", {});\n",
       "}\n",
       "\n",
       "// A function to construct a web socket function for onmessage handling.\n",
       "// Called in the figure constructor.\n",
       "mpl.figure.prototype._make_on_message_function = function(fig) {\n",
       "    return function socket_on_message(evt) {\n",
       "        if (evt.data instanceof Blob) {\n",
       "            /* FIXME: We get \"Resource interpreted as Image but\n",
       "             * transferred with MIME type text/plain:\" errors on\n",
       "             * Chrome.  But how to set the MIME type?  It doesn't seem\n",
       "             * to be part of the websocket stream */\n",
       "            evt.data.type = \"image/png\";\n",
       "\n",
       "            /* Free the memory for the previous frames */\n",
       "            if (fig.imageObj.src) {\n",
       "                (window.URL || window.webkitURL).revokeObjectURL(\n",
       "                    fig.imageObj.src);\n",
       "            }\n",
       "\n",
       "            fig.imageObj.src = (window.URL || window.webkitURL).createObjectURL(\n",
       "                evt.data);\n",
       "            fig.updated_canvas_event();\n",
       "            fig.waiting = false;\n",
       "            return;\n",
       "        }\n",
       "        else if (typeof evt.data === 'string' && evt.data.slice(0, 21) == \"data:image/png;base64\") {\n",
       "            fig.imageObj.src = evt.data;\n",
       "            fig.updated_canvas_event();\n",
       "            fig.waiting = false;\n",
       "            return;\n",
       "        }\n",
       "\n",
       "        var msg = JSON.parse(evt.data);\n",
       "        var msg_type = msg['type'];\n",
       "\n",
       "        // Call the  \"handle_{type}\" callback, which takes\n",
       "        // the figure and JSON message as its only arguments.\n",
       "        try {\n",
       "            var callback = fig[\"handle_\" + msg_type];\n",
       "        } catch (e) {\n",
       "            console.log(\"No handler for the '\" + msg_type + \"' message type: \", msg);\n",
       "            return;\n",
       "        }\n",
       "\n",
       "        if (callback) {\n",
       "            try {\n",
       "                // console.log(\"Handling '\" + msg_type + \"' message: \", msg);\n",
       "                callback(fig, msg);\n",
       "            } catch (e) {\n",
       "                console.log(\"Exception inside the 'handler_\" + msg_type + \"' callback:\", e, e.stack, msg);\n",
       "            }\n",
       "        }\n",
       "    };\n",
       "}\n",
       "\n",
       "// from http://stackoverflow.com/questions/1114465/getting-mouse-location-in-canvas\n",
       "mpl.findpos = function(e) {\n",
       "    //this section is from http://www.quirksmode.org/js/events_properties.html\n",
       "    var targ;\n",
       "    if (!e)\n",
       "        e = window.event;\n",
       "    if (e.target)\n",
       "        targ = e.target;\n",
       "    else if (e.srcElement)\n",
       "        targ = e.srcElement;\n",
       "    if (targ.nodeType == 3) // defeat Safari bug\n",
       "        targ = targ.parentNode;\n",
       "\n",
       "    // jQuery normalizes the pageX and pageY\n",
       "    // pageX,Y are the mouse positions relative to the document\n",
       "    // offset() returns the position of the element relative to the document\n",
       "    var x = e.pageX - $(targ).offset().left;\n",
       "    var y = e.pageY - $(targ).offset().top;\n",
       "\n",
       "    return {\"x\": x, \"y\": y};\n",
       "};\n",
       "\n",
       "/*\n",
       " * return a copy of an object with only non-object keys\n",
       " * we need this to avoid circular references\n",
       " * http://stackoverflow.com/a/24161582/3208463\n",
       " */\n",
       "function simpleKeys (original) {\n",
       "  return Object.keys(original).reduce(function (obj, key) {\n",
       "    if (typeof original[key] !== 'object')\n",
       "        obj[key] = original[key]\n",
       "    return obj;\n",
       "  }, {});\n",
       "}\n",
       "\n",
       "mpl.figure.prototype.mouse_event = function(event, name) {\n",
       "    var canvas_pos = mpl.findpos(event)\n",
       "\n",
       "    if (name === 'button_press')\n",
       "    {\n",
       "        this.canvas.focus();\n",
       "        this.canvas_div.focus();\n",
       "    }\n",
       "\n",
       "    var x = canvas_pos.x * mpl.ratio;\n",
       "    var y = canvas_pos.y * mpl.ratio;\n",
       "\n",
       "    this.send_message(name, {x: x, y: y, button: event.button,\n",
       "                             step: event.step,\n",
       "                             guiEvent: simpleKeys(event)});\n",
       "\n",
       "    /* This prevents the web browser from automatically changing to\n",
       "     * the text insertion cursor when the button is pressed.  We want\n",
       "     * to control all of the cursor setting manually through the\n",
       "     * 'cursor' event from matplotlib */\n",
       "    event.preventDefault();\n",
       "    return false;\n",
       "}\n",
       "\n",
       "mpl.figure.prototype._key_event_extra = function(event, name) {\n",
       "    // Handle any extra behaviour associated with a key event\n",
       "}\n",
       "\n",
       "mpl.figure.prototype.key_event = function(event, name) {\n",
       "\n",
       "    // Prevent repeat events\n",
       "    if (name == 'key_press')\n",
       "    {\n",
       "        if (event.which === this._key)\n",
       "            return;\n",
       "        else\n",
       "            this._key = event.which;\n",
       "    }\n",
       "    if (name == 'key_release')\n",
       "        this._key = null;\n",
       "\n",
       "    var value = '';\n",
       "    if (event.ctrlKey && event.which != 17)\n",
       "        value += \"ctrl+\";\n",
       "    if (event.altKey && event.which != 18)\n",
       "        value += \"alt+\";\n",
       "    if (event.shiftKey && event.which != 16)\n",
       "        value += \"shift+\";\n",
       "\n",
       "    value += 'k';\n",
       "    value += event.which.toString();\n",
       "\n",
       "    this._key_event_extra(event, name);\n",
       "\n",
       "    this.send_message(name, {key: value,\n",
       "                             guiEvent: simpleKeys(event)});\n",
       "    return false;\n",
       "}\n",
       "\n",
       "mpl.figure.prototype.toolbar_button_onclick = function(name) {\n",
       "    if (name == 'download') {\n",
       "        this.handle_save(this, null);\n",
       "    } else {\n",
       "        this.send_message(\"toolbar_button\", {name: name});\n",
       "    }\n",
       "};\n",
       "\n",
       "mpl.figure.prototype.toolbar_button_onmouseover = function(tooltip) {\n",
       "    this.message.textContent = tooltip;\n",
       "};\n",
       "mpl.toolbar_items = [[\"Home\", \"Reset original view\", \"fa fa-home icon-home\", \"home\"], [\"Back\", \"Back to  previous view\", \"fa fa-arrow-left icon-arrow-left\", \"back\"], [\"Forward\", \"Forward to next view\", \"fa fa-arrow-right icon-arrow-right\", \"forward\"], [\"\", \"\", \"\", \"\"], [\"Pan\", \"Pan axes with left mouse, zoom with right\", \"fa fa-arrows icon-move\", \"pan\"], [\"Zoom\", \"Zoom to rectangle\", \"fa fa-square-o icon-check-empty\", \"zoom\"], [\"\", \"\", \"\", \"\"], [\"Download\", \"Download plot\", \"fa fa-floppy-o icon-save\", \"download\"]];\n",
       "\n",
       "mpl.extensions = [\"eps\", \"pdf\", \"png\", \"ps\", \"raw\", \"svg\"];\n",
       "\n",
       "mpl.default_extension = \"png\";var comm_websocket_adapter = function(comm) {\n",
       "    // Create a \"websocket\"-like object which calls the given IPython comm\n",
       "    // object with the appropriate methods. Currently this is a non binary\n",
       "    // socket, so there is still some room for performance tuning.\n",
       "    var ws = {};\n",
       "\n",
       "    ws.close = function() {\n",
       "        comm.close()\n",
       "    };\n",
       "    ws.send = function(m) {\n",
       "        //console.log('sending', m);\n",
       "        comm.send(m);\n",
       "    };\n",
       "    // Register the callback with on_msg.\n",
       "    comm.on_msg(function(msg) {\n",
       "        //console.log('receiving', msg['content']['data'], msg);\n",
       "        // Pass the mpl event to the overriden (by mpl) onmessage function.\n",
       "        ws.onmessage(msg['content']['data'])\n",
       "    });\n",
       "    return ws;\n",
       "}\n",
       "\n",
       "mpl.mpl_figure_comm = function(comm, msg) {\n",
       "    // This is the function which gets called when the mpl process\n",
       "    // starts-up an IPython Comm through the \"matplotlib\" channel.\n",
       "\n",
       "    var id = msg.content.data.id;\n",
       "    // Get hold of the div created by the display call when the Comm\n",
       "    // socket was opened in Python.\n",
       "    var element = $(\"#\" + id);\n",
       "    var ws_proxy = comm_websocket_adapter(comm)\n",
       "\n",
       "    function ondownload(figure, format) {\n",
       "        window.open(figure.imageObj.src);\n",
       "    }\n",
       "\n",
       "    var fig = new mpl.figure(id, ws_proxy,\n",
       "                           ondownload,\n",
       "                           element.get(0));\n",
       "\n",
       "    // Call onopen now - mpl needs it, as it is assuming we've passed it a real\n",
       "    // web socket which is closed, not our websocket->open comm proxy.\n",
       "    ws_proxy.onopen();\n",
       "\n",
       "    fig.parent_element = element.get(0);\n",
       "    fig.cell_info = mpl.find_output_cell(\"<div id='\" + id + \"'></div>\");\n",
       "    if (!fig.cell_info) {\n",
       "        console.error(\"Failed to find cell for figure\", id, fig);\n",
       "        return;\n",
       "    }\n",
       "\n",
       "    var output_index = fig.cell_info[2]\n",
       "    var cell = fig.cell_info[0];\n",
       "\n",
       "};\n",
       "\n",
       "mpl.figure.prototype.handle_close = function(fig, msg) {\n",
       "    var width = fig.canvas.width/mpl.ratio\n",
       "    fig.root.unbind('remove')\n",
       "\n",
       "    // Update the output cell to use the data from the current canvas.\n",
       "    fig.push_to_output();\n",
       "    var dataURL = fig.canvas.toDataURL();\n",
       "    // Re-enable the keyboard manager in IPython - without this line, in FF,\n",
       "    // the notebook keyboard shortcuts fail.\n",
       "    IPython.keyboard_manager.enable()\n",
       "    $(fig.parent_element).html('<img src=\"' + dataURL + '\" width=\"' + width + '\">');\n",
       "    fig.close_ws(fig, msg);\n",
       "}\n",
       "\n",
       "mpl.figure.prototype.close_ws = function(fig, msg){\n",
       "    fig.send_message('closing', msg);\n",
       "    // fig.ws.close()\n",
       "}\n",
       "\n",
       "mpl.figure.prototype.push_to_output = function(remove_interactive) {\n",
       "    // Turn the data on the canvas into data in the output cell.\n",
       "    var width = this.canvas.width/mpl.ratio\n",
       "    var dataURL = this.canvas.toDataURL();\n",
       "    this.cell_info[1]['text/html'] = '<img src=\"' + dataURL + '\" width=\"' + width + '\">';\n",
       "}\n",
       "\n",
       "mpl.figure.prototype.updated_canvas_event = function() {\n",
       "    // Tell IPython that the notebook contents must change.\n",
       "    IPython.notebook.set_dirty(true);\n",
       "    this.send_message(\"ack\", {});\n",
       "    var fig = this;\n",
       "    // Wait a second, then push the new image to the DOM so\n",
       "    // that it is saved nicely (might be nice to debounce this).\n",
       "    setTimeout(function () { fig.push_to_output() }, 1000);\n",
       "}\n",
       "\n",
       "mpl.figure.prototype._init_toolbar = function() {\n",
       "    var fig = this;\n",
       "\n",
       "    var nav_element = $('<div/>')\n",
       "    nav_element.attr('style', 'width: 100%');\n",
       "    this.root.append(nav_element);\n",
       "\n",
       "    // Define a callback function for later on.\n",
       "    function toolbar_event(event) {\n",
       "        return fig.toolbar_button_onclick(event['data']);\n",
       "    }\n",
       "    function toolbar_mouse_event(event) {\n",
       "        return fig.toolbar_button_onmouseover(event['data']);\n",
       "    }\n",
       "\n",
       "    for(var toolbar_ind in mpl.toolbar_items){\n",
       "        var name = mpl.toolbar_items[toolbar_ind][0];\n",
       "        var tooltip = mpl.toolbar_items[toolbar_ind][1];\n",
       "        var image = mpl.toolbar_items[toolbar_ind][2];\n",
       "        var method_name = mpl.toolbar_items[toolbar_ind][3];\n",
       "\n",
       "        if (!name) { continue; };\n",
       "\n",
       "        var button = $('<button class=\"btn btn-default\" href=\"#\" title=\"' + name + '\"><i class=\"fa ' + image + ' fa-lg\"></i></button>');\n",
       "        button.click(method_name, toolbar_event);\n",
       "        button.mouseover(tooltip, toolbar_mouse_event);\n",
       "        nav_element.append(button);\n",
       "    }\n",
       "\n",
       "    // Add the status bar.\n",
       "    var status_bar = $('<span class=\"mpl-message\" style=\"text-align:right; float: right;\"/>');\n",
       "    nav_element.append(status_bar);\n",
       "    this.message = status_bar[0];\n",
       "\n",
       "    // Add the close button to the window.\n",
       "    var buttongrp = $('<div class=\"btn-group inline pull-right\"></div>');\n",
       "    var button = $('<button class=\"btn btn-mini btn-primary\" href=\"#\" title=\"Stop Interaction\"><i class=\"fa fa-power-off icon-remove icon-large\"></i></button>');\n",
       "    button.click(function (evt) { fig.handle_close(fig, {}); } );\n",
       "    button.mouseover('Stop Interaction', toolbar_mouse_event);\n",
       "    buttongrp.append(button);\n",
       "    var titlebar = this.root.find($('.ui-dialog-titlebar'));\n",
       "    titlebar.prepend(buttongrp);\n",
       "}\n",
       "\n",
       "mpl.figure.prototype._root_extra_style = function(el){\n",
       "    var fig = this\n",
       "    el.on(\"remove\", function(){\n",
       "\tfig.close_ws(fig, {});\n",
       "    });\n",
       "}\n",
       "\n",
       "mpl.figure.prototype._canvas_extra_style = function(el){\n",
       "    // this is important to make the div 'focusable\n",
       "    el.attr('tabindex', 0)\n",
       "    // reach out to IPython and tell the keyboard manager to turn it's self\n",
       "    // off when our div gets focus\n",
       "\n",
       "    // location in version 3\n",
       "    if (IPython.notebook.keyboard_manager) {\n",
       "        IPython.notebook.keyboard_manager.register_events(el);\n",
       "    }\n",
       "    else {\n",
       "        // location in version 2\n",
       "        IPython.keyboard_manager.register_events(el);\n",
       "    }\n",
       "\n",
       "}\n",
       "\n",
       "mpl.figure.prototype._key_event_extra = function(event, name) {\n",
       "    var manager = IPython.notebook.keyboard_manager;\n",
       "    if (!manager)\n",
       "        manager = IPython.keyboard_manager;\n",
       "\n",
       "    // Check for shift+enter\n",
       "    if (event.shiftKey && event.which == 13) {\n",
       "        this.canvas_div.blur();\n",
       "        // select the cell after this one\n",
       "        var index = IPython.notebook.find_cell_index(this.cell_info[0]);\n",
       "        IPython.notebook.select(index + 1);\n",
       "    }\n",
       "}\n",
       "\n",
       "mpl.figure.prototype.handle_save = function(fig, msg) {\n",
       "    fig.ondownload(fig, null);\n",
       "}\n",
       "\n",
       "\n",
       "mpl.find_output_cell = function(html_output) {\n",
       "    // Return the cell and output element which can be found *uniquely* in the notebook.\n",
       "    // Note - this is a bit hacky, but it is done because the \"notebook_saving.Notebook\"\n",
       "    // IPython event is triggered only after the cells have been serialised, which for\n",
       "    // our purposes (turning an active figure into a static one), is too late.\n",
       "    var cells = IPython.notebook.get_cells();\n",
       "    var ncells = cells.length;\n",
       "    for (var i=0; i<ncells; i++) {\n",
       "        var cell = cells[i];\n",
       "        if (cell.cell_type === 'code'){\n",
       "            for (var j=0; j<cell.output_area.outputs.length; j++) {\n",
       "                var data = cell.output_area.outputs[j];\n",
       "                if (data.data) {\n",
       "                    // IPython >= 3 moved mimebundle to data attribute of output\n",
       "                    data = data.data;\n",
       "                }\n",
       "                if (data['text/html'] == html_output) {\n",
       "                    return [cell, data, j];\n",
       "                }\n",
       "            }\n",
       "        }\n",
       "    }\n",
       "}\n",
       "\n",
       "// Register the function which deals with the matplotlib target/channel.\n",
       "// The kernel may be null if the page has been refreshed.\n",
       "if (IPython.notebook.kernel != null) {\n",
       "    IPython.notebook.kernel.comm_manager.register_target('matplotlib', mpl.mpl_figure_comm);\n",
       "}\n"
      ],
      "text/plain": [
       "<IPython.core.display.Javascript object>"
      ]
     },
     "metadata": {},
     "output_type": "display_data"
    },
    {
     "data": {
      "text/html": [
       "<img src=\"data:image/png;base64,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\" width=\"640\">"
      ],
      "text/plain": [
       "<IPython.core.display.HTML object>"
      ]
     },
     "metadata": {},
     "output_type": "display_data"
    }
   ],
   "source": [
    "baseimage3(A)"
   ]
  },
  {
   "cell_type": "markdown",
   "metadata": {
    "deletable": true,
    "editable": true,
    "slideshow": {
     "slide_type": "slide"
    }
   },
   "source": [
    "Jede Rotation in 3d ist also eine 2d Drehung um die Euler Achse. \n",
    "Eine solche Achse existiert immer! \n",
    "\n",
    "Punkte auf der Euler Achse bleiben unverändert.\n",
    "Jeder Punkt liegt in einer Ebene orthogonal zur Euler Achse und bleibt auch nach der Rotation in dieser Ebene.\n",
    "\n",
    "Die Berechnung der Euler Achse und des Drehwinkels $\\varphi$ ist etwas technisch (ergo Hausaufgabe)."
   ]
  },
  {
   "cell_type": "code",
   "execution_count": 1299,
   "metadata": {
    "collapsed": true,
    "deletable": true,
    "editable": true,
    "slideshow": {
     "slide_type": "skip"
    }
   },
   "outputs": [],
   "source": [
    "# There are always 3 of them! \n",
    "# one always seems to be 1\n",
    "# The other two eigenvalues are $z$ and $\\bar{z}$\n",
    "# Can we compute $\\mathbf{A}*n=n$ without too much hassle?\n",
    "# What's the interpretation of n?\n",
    "\n",
    "#A^T*n = A^T*A*n=n\n",
    "#(A^T - A)*n = 0\n",
    "#B = A^T-A = 0"
   ]
  },
  {
   "cell_type": "code",
   "execution_count": 1300,
   "metadata": {
    "collapsed": false,
    "deletable": true,
    "editable": true,
    "slideshow": {
     "slide_type": "slide"
    }
   },
   "outputs": [
    {
     "name": "stdout",
     "output_type": "stream",
     "text": [
      "1.11886302283e-16\n",
      "128.265323713\n"
     ]
    }
   ],
   "source": [
    "A = rand_so3()\n",
    "\n",
    "def euler(A, eps=1e-10):\n",
    "    assert np.abs(np.linalg.det(A)-1) < eps, \"Die Determinante der Matrix A ist {0}\".format(np.linalg.det(A))\n",
    "    assert np.linalg.norm(np.dot(A.T,A)-np.eye(3), 'fro') < eps, \"Die Matrix A ist nicht orthonormal\"\n",
    "    assert A.shape==(3,3), \"Die Matrix A ist nicht 3 x 3\"\n",
    "\n",
    "    theta = np.arccos((np.trace(A)-1)/2)\n",
    "    e_1 = A[2,1]-A[1,2]\n",
    "    e_2 = A[0,2]-A[2,0]\n",
    "    e_3 = A[1,0]-A[0,1]\n",
    "    \n",
    "    n = np.array([e_1,e_2,e_3]) \n",
    "    \n",
    "    assert np.abs(np.linalg.norm(n,2)-2*np.sin(theta)) < eps\n",
    "    return n/np.linalg.norm(n,2), theta\n",
    "    \n",
    "\n",
    "axis, angle = euler(A)\n",
    "# check if A*axis == n\n",
    "print(np.linalg.norm(np.dot(A,axis)-axis, 2))\n",
    "print(180*angle/np.pi)"
   ]
  },
  {
   "cell_type": "markdown",
   "metadata": {
    "collapsed": true,
    "deletable": true,
    "editable": true,
    "slideshow": {
     "slide_type": "slide"
    }
   },
   "source": [
    "* Die Idee ist es die Rotation als Paar aus Achse $(x_1, x_2, x_3)$ mit $x_1^2 + x_2^2 + x_3^2=1$ und Winkel $\\varphi$ anzugeben. Das schaffen wir eben genau mit den Quaternionen uns insbesondere den Versoren:\n",
    "\\\\[\n",
    "q = \\cos(\\varphi/2) + \\sin(\\varphi/2) (ix_1 + jx_2 + kx_3)\n",
    "\\\\]\n",
    "* Ein Vektor $x \\in \\mathbb{R}^3$ kann mit der reinen Quaternion \n",
    "\\\\[\n",
    "x_r = ix_1 + jx_2 + kx_3\n",
    "\\\\]\n",
    "identifiziert werden.\n",
    "* Die Multiplikation der Quaternionen folgt\n",
    "\\\\[\n",
    "i^2 = j^2 = k^2 = ijk = -1\n",
    "\\\\]\n",
    "* Die Rotation ist dann der vektorwertige Teil der Quaternion\n",
    "\\\\[\n",
    "x' = q x_r \\bar{q}\n",
    "\\\\]\n"
   ]
  },
  {
   "cell_type": "code",
   "execution_count": 1301,
   "metadata": {
    "collapsed": true,
    "slideshow": {
     "slide_type": "slide"
    }
   },
   "outputs": [],
   "source": [
    "import numpy as np\n",
    "\n",
    "def fromSO3(A):\n",
    "    axis, angle = euler(A)\n",
    "    vector = np.sin(angle/2)*axis\n",
    "    return Quaternion(np.array([np.cos(angle/2), vector[0], vector[1], vector[2]]))\n",
    "    \n",
    "def fromSO3_fast(A):\n",
    "    q_r = 0.5*np.sqrt(1 + np.trace(A))\n",
    "    q_i = (A[2,1]- A[1,2])/(4*q_r)\n",
    "    q_j = (A[0,2]- A[2,0])/(4*q_r)\n",
    "    q_k = (A[1,0]- A[0,1])/(4*q_r)\n",
    "    return Quaternion(np.array([q_r, q_i, q_j, q_k]))\n",
    "\n",
    "    \n",
    "class Quaternion(object):\n",
    "    def __init__(self, q):\n",
    "        assert len(q) == 4\n",
    "        self.__q = q\n",
    "        # make the array immutable\n",
    "        self.__q.flags.writeable = False\n",
    "    \n",
    "    @property\n",
    "    def conjugate(self):\n",
    "        return Quaternion(np.array([self.__q[0], -self.__q[1], -self.__q[2], -self.__q[3]]))\n",
    "    \n",
    "    @property\n",
    "    def versor(self):\n",
    "        return Quaternion(self.__q/self.norm)\n",
    "    \n",
    "    @property\n",
    "    def norm(self):\n",
    "        return np.linalg.norm(self.__q, 2)\n",
    "    \n",
    "    def __repr__(self):\n",
    "        return \"Q{0}\".format(self.__q)\n",
    "    \n",
    "    def __mul__(self, other):\n",
    "        if isinstance(other, Quaternion):\n",
    "            w1, x1, y1, z1 = tuple(self.__q)\n",
    "            w2, x2, y2, z2 = tuple(other.__q)\n",
    "\n",
    "            w = w1 * w2 - x1 * x2 - y1 * y2 - z1 * z2\n",
    "            x = w1 * x2 + x1 * w2 + y1 * z2 - z1 * y2\n",
    "            y = w1 * y2 + y1 * w2 + z1 * x2 - x1 * z2\n",
    "            z = w1 * z2 + z1 * w2 + x1 * y2 - y1 * x2\n",
    "            return Quaternion(np.array([w, x, y, z]))\n",
    "        else:\n",
    "            raise NotImplementedError()\n",
    "    \n",
    "    def __rmul__(self, other):\n",
    "        return Quaternion(other*self.__q)\n",
    "    \n",
    "    def __add__(self, other):\n",
    "        return Quaternion(self.__q + other.__q)\n",
    "    \n",
    "    def rotate(self, x):\n",
    "        # construct the pure quaternion\n",
    "        z = Quaternion(np.array([0, x[0], x[1], x[2]]))\n",
    "        assert np.abs(self.norm-1) < 1e-10, \"The quaternion has to be a versor!\"\n",
    "        return (self*z*self.conjugate).vector\n",
    "    \n",
    "    @property\n",
    "    def so3(self):    \n",
    "        # there are less expensive formulas for this step. Howe\n",
    "        return np.apply_along_axis(self.rotate, 0, np.eye(3))\n",
    "        \n",
    "    @property\n",
    "    def vector(self):\n",
    "        return self.__q[1:]\n",
    "    \n",
    "    @property\n",
    "    def real(self):\n",
    "        return self.__q[0]\n",
    "    "
   ]
  },
  {
   "cell_type": "code",
   "execution_count": 1302,
   "metadata": {
    "collapsed": false,
    "slideshow": {
     "slide_type": "slide"
    }
   },
   "outputs": [
    {
     "name": "stdout",
     "output_type": "stream",
     "text": [
      "[[ 0.38852632 -0.18033955 -0.9036177 ]\n",
      " [-0.3922001  -0.9197588   0.01492758]\n",
      " [-0.83380236  0.3485992  -0.42807969]]\n",
      "1.0\n",
      "2.34081677926e-16\n"
     ]
    }
   ],
   "source": [
    "# compute a Matrix from SO3()\n",
    "A = rand_so3()\n",
    "print(A)\n",
    "print(np.linalg.det(A))\n",
    "print(np.linalg.norm(np.dot(A.T,A)-np.eye(3), 'fro'))"
   ]
  },
  {
   "cell_type": "code",
   "execution_count": 1303,
   "metadata": {
    "collapsed": false,
    "slideshow": {
     "slide_type": "slide"
    }
   },
   "outputs": [
    {
     "name": "stdout",
     "output_type": "stream",
     "text": [
      "Q[ 0.10085612  0.82709806 -0.17305676 -0.5251554 ]\n",
      "1.16151363575e-15\n",
      "3.78464346833e-15\n"
     ]
    }
   ],
   "source": [
    "q1=fromSO3(A)\n",
    "q2=fromSO3_fast(A)\n",
    "print(q1)\n",
    "print((q1+(-1*q2)).norm)\n",
    "print(np.linalg.norm(A-q2.so3))\n"
   ]
  },
  {
   "cell_type": "code",
   "execution_count": 1304,
   "metadata": {
    "collapsed": false,
    "slideshow": {
     "slide_type": "slide"
    }
   },
   "outputs": [
    {
     "name": "stdout",
     "output_type": "stream",
     "text": [
      "Quaternion Q[ 0.10085612  0.82709806 -0.17305676 -0.5251554 ]\n",
      "Norm       1.0\n",
      "Real       0.1008561221484772\n",
      "Vector     [ 0.82709806 -0.17305676 -0.5251554 ]\n",
      "Versor     Q[ 0.10085612  0.82709806 -0.17305676 -0.5251554 ]\n",
      "Conjugate  Q[ 0.10085612 -0.82709806  0.17305676  0.5251554 ]\n"
     ]
    }
   ],
   "source": [
    "print(\"Quaternion {0}\".format(q1))\n",
    "print(\"Norm       {0}\".format(q1.norm))\n",
    "print(\"Real       {0}\".format(q1.real))\n",
    "print(\"Vector     {0}\".format(q1.vector))\n",
    "print(\"Versor     {0}\".format(q1.versor))\n",
    "print(\"Conjugate  {0}\".format(q1.conjugate))"
   ]
  },
  {
   "cell_type": "code",
   "execution_count": 1305,
   "metadata": {
    "collapsed": false,
    "slideshow": {
     "slide_type": "slide"
    }
   },
   "outputs": [
    {
     "name": "stdout",
     "output_type": "stream",
     "text": [
      "Quaternion Vector (Euler-Achse) [ 0.82709806 -0.17305676 -0.5251554 ]\n",
      "Und rotiert                     [ 0.82709806 -0.17305676 -0.5251554 ]\n"
     ]
    }
   ],
   "source": [
    "print(\"Quaternion Vector (Euler-Achse) {0}\".format(q2.vector))\n",
    "print(\"Und rotiert                     {0}\".format(q2.rotate(x=q2.vector)))"
   ]
  },
  {
   "cell_type": "code",
   "execution_count": 1306,
   "metadata": {
    "collapsed": false,
    "deletable": true,
    "editable": true,
    "scrolled": true,
    "slideshow": {
     "slide_type": "slide"
    }
   },
   "outputs": [
    {
     "name": "stdout",
     "output_type": "stream",
     "text": [
      "Die Einheitsvektoren rotiert  \n",
      "[[ 0.38852632 -0.18033955 -0.9036177 ]\n",
      " [-0.3922001  -0.9197588   0.01492758]\n",
      " [-0.83380236  0.3485992  -0.42807969]]\n",
      "Die Rotationsmatrix           \n",
      "[[ 0.38852632 -0.18033955 -0.9036177 ]\n",
      " [-0.3922001  -0.9197588   0.01492758]\n",
      " [-0.83380236  0.3485992  -0.42807969]]\n"
     ]
    }
   ],
   "source": [
    "print(\"Die Einheitsvektoren rotiert  \\n{0}\".format(q2.so3))\n",
    "print(\"Die Rotationsmatrix           \\n{0}\".format(A))"
   ]
  },
  {
   "cell_type": "markdown",
   "metadata": {
    "deletable": true,
    "editable": true,
    "slideshow": {
     "slide_type": "slide"
    }
   },
   "source": [
    "### Aber warum?\n",
    "* Die Rotation von (vielen) Punkten mittels Quaternionen ist verglichen mit Rotationsmatrizen teuer.\n",
    "* Interessanter für Rotationen von Rotationen, numerisch stabiler...\n",
    "* Interpolation von Quaternionen (SLERP)..."
   ]
  },
  {
   "cell_type": "markdown",
   "metadata": {
    "deletable": true,
    "editable": true,
    "slideshow": {
     "slide_type": "slide"
    }
   },
   "source": [
    "### Alternative Representations of SO(3) \n",
    "siehe https://github.com/moble/quaternion\n",
    "\n",
    "Euler angles are pretty much the worst things ever and it makes me feel bad even supporting them. Quaternions are faster, more accurate, basically free of singularities, more intuitive, and generally easier to understand. You can work entirely without Euler angles (I certainly do). You absolutely never need them. \n",
    "\n",
    "Es gibt viele mögliche Representationen der Element von SO(3). Siehe https://en.wikipedia.org/wiki/Charts_on_SO(3)\n",
    "\n"
   ]
  },
  {
   "cell_type": "markdown",
   "metadata": {
    "slideshow": {
     "slide_type": "slide"
    }
   },
   "source": [
    "Hausaufgabe: Sie fliegen von Biel direkt zum Nordpol. Was ist Ihr Längengrad? Sie überfliegen den Nordpol und nehmen geradeaus Kurs auf Hawaii... Sie zeichnen den Längengrad auf. Was passiert am Nordpol?"
   ]
  },
  {
   "cell_type": "markdown",
   "metadata": {
    "slideshow": {
     "slide_type": "slide"
    }
   },
   "source": [
    "### SLERP (interpolation of two quarterions)\n",
    "\n",
    "* special case: $q_0 = 1$, $q_1 = q = \\cos(\\theta) + \\sin(\\theta)\\mathbf{v}$ (Polarform)\n",
    "\n",
    "\\\\[\n",
    "SLERP(1, q, t) = q^t = \\cos(t\\theta) + \\sin(t\\theta)\\mathbf{v}\n",
    "\\\\]\n",
    "\n",
    "* normal case: $q_0$ and $q_1$ both unit quaternions:\n",
    "\n",
    "\\\\[\n",
    "SLERP(q_0, q_1, t) = (q_1 q_0^{-1})^t q_0\n",
    "\\\\]\n",
    "\n",
    "\n"
   ]
  },
  {
   "cell_type": "markdown",
   "metadata": {
    "slideshow": {
     "slide_type": "slide"
    }
   },
   "source": [
    "### Zusammenfassung 1:\n",
    "* Komplexe Zahlen eng verwandt mit den Rotationsmatrizen SO(2).\n",
    "* Quaternionen eng verwandt mit den Rotationsmatrizen SO(3).\n",
    "* SO(2) eng verwandt mit SO(3), also Komplexe Zahlen eng verwandt mit Quaternionen."
   ]
  },
  {
   "cell_type": "markdown",
   "metadata": {
    "slideshow": {
     "slide_type": "slide"
    }
   },
   "source": [
    "### Zusammenfassung 2:\n",
    "* Eine Rotation in 3D ist immer eine Rotation um eine feste Euler-Achse.\n",
    "* Die Euler-Achse ist der Eigenvektor (zum Eigenwert 1.0) einer Matrix aus SO(3).\n",
    "* Die Euler-Achse beschreibt den vektorwertigen Anteil der Quarternion."
   ]
  },
  {
   "cell_type": "markdown",
   "metadata": {
    "deletable": true,
    "editable": true,
    "slideshow": {
     "slide_type": "slide"
    }
   },
   "source": [
    "### Zusammenfassung 3:\n",
    "* Quarternionen insbesondere hilfreich bei vielen Rotationen weniger Punkte.\n",
    "* Rotationsmatrizen hilfreich bei wenigen Rotationen vieler Punkte.\n",
    "* Glückliches Leben auch ohne Quaternionen möglich, unmöglich aber ohne Lineare Algebra und Komplexe Zahlen."
   ]
  }
 ],
 "metadata": {
  "celltoolbar": "Slideshow",
  "kernelspec": {
   "display_name": "Python 3",
   "language": "python",
   "name": "python3"
  },
  "language_info": {
   "codemirror_mode": {
    "name": "ipython",
    "version": 3
   },
   "file_extension": ".py",
   "mimetype": "text/x-python",
   "name": "python",
   "nbconvert_exporter": "python",
   "pygments_lexer": "ipython3",
   "version": "3.5.3"
  }
 },
 "nbformat": 4,
 "nbformat_minor": 2
}
